{
  "nbformat": 4,
  "nbformat_minor": 0,
  "metadata": {
    "accelerator": "GPU",
    "colab": {
      "name": "Actividad_2-jadebustos.ipynb",
      "provenance": [],
      "collapsed_sections": [],
      "toc_visible": true,
      "include_colab_link": true
    },
    "kernelspec": {
      "display_name": "Python 3",
      "language": "python",
      "name": "python3"
    },
    "language_info": {
      "codemirror_mode": {
        "name": "ipython",
        "version": 3
      },
      "file_extension": ".py",
      "mimetype": "text/x-python",
      "name": "python",
      "nbconvert_exporter": "python",
      "pygments_lexer": "ipython3",
      "version": "3.7.4"
    }
  },
  "cells": [
    {
      "cell_type": "markdown",
      "metadata": {
        "id": "view-in-github",
        "colab_type": "text"
      },
      "source": [
        "<a href=\"https://colab.research.google.com/github/mgpadron/IA-test-IdeAs/blob/master/Actividad_2_jadebustos.ipynb\" target=\"_parent\"><img src=\"https://colab.research.google.com/assets/colab-badge.svg\" alt=\"Open In Colab\"/></a>"
      ]
    },
    {
      "cell_type": "markdown",
      "metadata": {
        "colab_type": "text",
        "id": "mX8gZlVyCCbz"
      },
      "source": [
        "# Actividad 2: Convolutional Neural Networks\n",
        "\n",
        "En esta actividad, vamos a trabajar con Convolutional Neural Networks para resolver un problema de clasificación de imágenes. En particular, vamos a clasificar imágenes de personajes de la conocida serie de los Simpsons.\n",
        "\n",
        "Como las CNN profundas son un tipo de modelo bastante avanzado y computacionalmente costoso, se recomienda hacer la práctica en Google Colaboratory con soporte para GPUs. En [este enlace](https://medium.com/deep-learning-turkey/google-colab-free-gpu-tutorial-e113627b9f5d) se explica cómo activar un entorno con GPUs. *Nota: para leer las imágenes y estandarizarlas al mismo tamaño se usa la librería opencv. Esta ĺibrería está ya instalada en el entorno de Colab, pero si trabajáis de manera local tendréis que instalarla.*\n",
        "\n",
        "<center><img src=\"https://i.imgur.com/i8zIGqX.jpg\" style=\"text-align: center\" height=\"300px\"></center>\n",
        "\n",
        "El dataset a utilizar consiste en imágenes de personajes de los Simpsons extraídas directamente de capítulos de la serie. Este dataset ha sido recopilado por [Alexandre Attia](http://www.alexattia.fr/) y es más complejo que el dataset de Fashion MNIST que hemos utilizado hasta ahora. Aparte de tener más clases (vamos a utilizar los 18 personajes con más imágenes), los personajes pueden aparecer en distintas poses, en distintas posiciones de la imagen o con otros personajes en pantalla (si bien el personaje a clasificar siempre aparece en la posición predominante).\n",
        "\n",
        "El dataset de training puede ser descargado desde aquí:\n",
        "\n",
        "[Training data](https://onedrive.live.com/download?cid=C506CF0A4F373B0F&resid=C506CF0A4F373B0F%219337&authkey=AMzI92bJPx8Sd60) (~500MB)\n",
        "\n",
        "Por otro lado, el dataset de test puede ser descargado de aquí:\n",
        "\n",
        "[Test data](https://onedrive.live.com/download?cid=C506CF0A4F373B0F&resid=C506CF0A4F373B0F%219341&authkey=ANnjK3Uq1FhuAe8) (~10MB)\n",
        "\n",
        "Antes de empezar la práctica, se recomienda descargar las imágenes y echarlas un vistazo.\n"
      ]
    },
    {
      "cell_type": "markdown",
      "metadata": {
        "colab_type": "text",
        "id": "QI274F8LQC59"
      },
      "source": [
        "## Carga de los datos"
      ]
    },
    {
      "cell_type": "code",
      "metadata": {
        "colab_type": "code",
        "id": "D7tKOZ9BFfki",
        "outputId": "7cda5667-b45c-413f-cb39-bdf12655db1e",
        "colab": {
          "base_uri": "https://localhost:8080/",
          "height": 102
        }
      },
      "source": [
        "import cv2\n",
        "import os\n",
        "import numpy as np \n",
        "import keras\n",
        "import matplotlib.pyplot as plt\n",
        "import glob\n",
        "\n",
        "\n",
        "# Primero, bajamos los datos de entrenamiento\n",
        "keras.utils.get_file(fname=\"simpsons_train.tar.gz\", \n",
        "                     origin=\"https://onedrive.live.com/download?cid=C506CF0A4F373B0F&resid=C506CF0A4F373B0F%219337&authkey=AMzI92bJPx8Sd60\")\n",
        "\n",
        "# Descomprimimos el archivo\n",
        "#!tar -xzf /root/.keras/datasets/simpsons_train.tar.gz -C /root/.keras/datasets\n",
        "!tar -xzf ~/.keras/datasets/simpsons_train.tar.gz \n",
        "\n",
        "# Hacemos lo mismo con los datos de test\n",
        "keras.utils.get_file(fname=\"simpsons_test.tar.gz\", \n",
        "                     origin=\"https://onedrive.live.com/download?cid=C506CF0A4F373B0F&resid=C506CF0A4F373B0F%219341&authkey=ANnjK3Uq1FhuAe8\")\n",
        "#!tar -xzf /root/.keras/datasets/simpsons_test.tar.gz -C /root/.keras/datasets\n",
        "!tar -xzf ~/.keras/datasets/simpsons_test.tar.gz "
      ],
      "execution_count": 0,
      "outputs": [
        {
          "output_type": "stream",
          "text": [
            "Using TensorFlow backend.\n"
          ],
          "name": "stderr"
        },
        {
          "output_type": "stream",
          "text": [
            "Downloading data from https://onedrive.live.com/download?cid=C506CF0A4F373B0F&resid=C506CF0A4F373B0F%219337&authkey=AMzI92bJPx8Sd60\n",
            "523796480/523789527 [==============================] - 29s 0us/step\n",
            "Downloading data from https://onedrive.live.com/download?cid=C506CF0A4F373B0F&resid=C506CF0A4F373B0F%219341&authkey=ANnjK3Uq1FhuAe8\n",
            "10665984/10658925 [==============================] - 2s 0us/step\n"
          ],
          "name": "stdout"
        }
      ]
    },
    {
      "cell_type": "code",
      "metadata": {
        "colab_type": "code",
        "id": "hMFhe3COFwSD",
        "colab": {}
      },
      "source": [
        "# Esta variable contiene un mapeo de número de clase a personaje.\n",
        "# Utilizamos sólo los 18 personajes del dataset que tienen más imágenes.\n",
        "MAP_CHARACTERS = {\n",
        "    0: 'abraham_grampa_simpson', 1: 'apu_nahasapeemapetilon', 2: 'bart_simpson',\n",
        "    3: 'charles_montgomery_burns', 4: 'chief_wiggum', 5: 'comic_book_guy', 6: 'edna_krabappel', \n",
        "    7: 'homer_simpson', 8: 'kent_brockman', 9: 'krusty_the_clown', 10: 'lisa_simpson', \n",
        "    11: 'marge_simpson', 12: 'milhouse_van_houten', 13: 'moe_szyslak', \n",
        "    14: 'ned_flanders', 15: 'nelson_muntz', 16: 'principal_skinner', 17: 'sideshow_bob'\n",
        "}\n",
        "\n",
        "# Vamos a standarizar todas las imágenes a tamaño 64x64\n",
        "IMG_SIZE = 64"
      ],
      "execution_count": 0,
      "outputs": []
    },
    {
      "cell_type": "code",
      "metadata": {
        "colab_type": "code",
        "id": "5bJ0NsbCbupF",
        "colab": {}
      },
      "source": [
        "def load_train_set(dirname, map_characters, verbose=True):\n",
        "    \"\"\"Esta función carga los datos de training en imágenes.\n",
        "    \n",
        "    Como las imágenes tienen tamaños distintas, utilizamos la librería opencv\n",
        "    para hacer un resize y adaptarlas todas a tamaño IMG_SIZE x IMG_SIZE.\n",
        "    \n",
        "    Args:\n",
        "        dirname: directorio completo del que leer los datos\n",
        "        map_characters: variable de mapeo entre labels y personajes\n",
        "        verbose: si es True, muestra información de las imágenes cargadas\n",
        "     \n",
        "    Returns:\n",
        "        X, y: X es un array con todas las imágenes cargadas con tamaño\n",
        "                IMG_SIZE x IMG_SIZE\n",
        "              y es un array con las labels de correspondientes a cada imagen\n",
        "    \"\"\"\n",
        "    X_train = []\n",
        "    y_train = []\n",
        "    for label, character in map_characters.items():        \n",
        "        files = os.listdir(os.path.join(dirname, character))\n",
        "        images = [file for file in files if file.endswith(\"jpg\")]\n",
        "        if verbose:\n",
        "          print(\"Leyendo {} imágenes encontradas de {}\".format(len(images), character))\n",
        "        for image_name in images:\n",
        "            image = cv2.imread(os.path.join(dirname, character, image_name))\n",
        "            X_train.append(cv2.resize(image,(IMG_SIZE, IMG_SIZE)))\n",
        "            y_train.append(label)\n",
        "    return np.array(X_train), np.array(y_train)"
      ],
      "execution_count": 0,
      "outputs": []
    },
    {
      "cell_type": "code",
      "metadata": {
        "colab_type": "code",
        "id": "NslxhnnDK6uA",
        "colab": {}
      },
      "source": [
        "def load_test_set(dirname, map_characters, verbose=True):\n",
        "    \"\"\"Esta función funciona de manera equivalente a la función load_train_set\n",
        "    pero cargando los datos de test.\"\"\"\n",
        "    X_test = []\n",
        "    y_test = []\n",
        "    reverse_dict = {v: k for k, v in map_characters.items()}\n",
        "    for filename in glob.glob(dirname + '/*.*'):\n",
        "        char_name = \"_\".join(filename.split('/')[-1].split('_')[:-1])\n",
        "        if char_name in reverse_dict:\n",
        "            image = cv2.imread(filename)\n",
        "            image = cv2.resize(image, (IMG_SIZE, IMG_SIZE))\n",
        "            X_test.append(image)\n",
        "            y_test.append(reverse_dict[char_name])\n",
        "    if verbose:\n",
        "        print(\"Leídas {} imágenes de test\".format(len(X_test)))\n",
        "    return np.array(X_test), np.array(y_test)\n"
      ],
      "execution_count": 0,
      "outputs": []
    },
    {
      "cell_type": "code",
      "metadata": {
        "colab_type": "code",
        "id": "WVWqKxFcbwTu",
        "outputId": "eb84f405-5daa-4272-f3c0-014147f1823b",
        "colab": {
          "base_uri": "https://localhost:8080/",
          "height": 340
        }
      },
      "source": [
        "# Cargamos los datos. Si no estás trabajando en colab, cambia los paths por\n",
        "# los de los ficheros donde hayas descargado los datos.\n",
        "#DATASET_TRAIN_PATH_COLAB = \"/root/.keras/datasets/simpsons\"\n",
        "#DATASET_TEST_PATH_COLAB = \"/root/.keras/datasets/simpsons_testset\"\n",
        "\n",
        "DATASET_TRAIN_PATH_COLAB = \"simpsons\"\n",
        "DATASET_TEST_PATH_COLAB = \"simpsons_testset\"\n",
        "\n",
        "X, y = load_train_set(DATASET_TRAIN_PATH_COLAB, MAP_CHARACTERS)\n",
        "X_t, y_t = load_test_set(DATASET_TEST_PATH_COLAB, MAP_CHARACTERS)"
      ],
      "execution_count": 0,
      "outputs": [
        {
          "output_type": "stream",
          "text": [
            "Leyendo 913 imágenes encontradas de abraham_grampa_simpson\n",
            "Leyendo 623 imágenes encontradas de apu_nahasapeemapetilon\n",
            "Leyendo 1342 imágenes encontradas de bart_simpson\n",
            "Leyendo 1193 imágenes encontradas de charles_montgomery_burns\n",
            "Leyendo 986 imágenes encontradas de chief_wiggum\n",
            "Leyendo 469 imágenes encontradas de comic_book_guy\n",
            "Leyendo 457 imágenes encontradas de edna_krabappel\n",
            "Leyendo 2246 imágenes encontradas de homer_simpson\n",
            "Leyendo 498 imágenes encontradas de kent_brockman\n",
            "Leyendo 1206 imágenes encontradas de krusty_the_clown\n",
            "Leyendo 1354 imágenes encontradas de lisa_simpson\n",
            "Leyendo 1291 imágenes encontradas de marge_simpson\n",
            "Leyendo 1079 imágenes encontradas de milhouse_van_houten\n",
            "Leyendo 1452 imágenes encontradas de moe_szyslak\n",
            "Leyendo 1454 imágenes encontradas de ned_flanders\n",
            "Leyendo 358 imágenes encontradas de nelson_muntz\n",
            "Leyendo 1194 imágenes encontradas de principal_skinner\n",
            "Leyendo 877 imágenes encontradas de sideshow_bob\n",
            "Leídas 890 imágenes de test\n"
          ],
          "name": "stdout"
        }
      ]
    },
    {
      "cell_type": "code",
      "metadata": {
        "colab_type": "code",
        "id": "2GY4vTFyfffv",
        "colab": {}
      },
      "source": [
        "# Vamos a barajar aleatoriamente los datos. Esto es importante ya que si no\n",
        "# lo hacemos y, por ejemplo, cogemos el 20% de los datos finales como validation\n",
        "# set, estaremos utilizando solo un pequeño número de personajes, ya que\n",
        "# las imágenes se leen secuencialmente personaje a personaje.\n",
        "perm = np.random.permutation(len(X))\n",
        "X, y = X[perm], y[perm]"
      ],
      "execution_count": 0,
      "outputs": []
    },
    {
      "cell_type": "markdown",
      "metadata": {
        "colab_type": "text",
        "id": "pBbmz9DMhVhc"
      },
      "source": [
        "## Entregable\n",
        "\n",
        "Utilizando Convolutional Neural Networks con Keras, entrenar un clasificador que sea capaz de reconocer personajes en imágenes de los Simpsons con una accuracy en el dataset de test de **85%**. Redactar un informe analizando varias de las alternativas probadas y los resultados obtenidos.\n",
        "\n",
        "A continuación se detallan una serie de aspectos orientativos que podrían ser analizados en vuestro informe (no es necesario tratar todos ellos ni mucho menos, esto son ideas orientativas de aspectos que podéis explorar):\n",
        "\n",
        "*   Análisis de los datos a utilizar.\n",
        "*   Análisis de resultados, obtención de métricas de *precision* y *recall* por clase y análisis de qué clases obtienen mejores o peores resultados.\n",
        "*   Análisis visual de los errores de la red. ¿Qué tipo de imágenes o qué personajes dan más problemas a nuestro modelo?\n",
        "*   Comparación de modelos CNNs con un modelo de Fully Connected para este problema.\n",
        "*   Utilización de distintas arquitecturas CNNs, comentando aspectos como su profundidad, hiperparámetros utilizados, optimizador, uso de técnicas de regularización, *batch normalization*, etc.\n",
        "*   [ *algo más difícil* ] Utilización de *data augmentation*. Esto puede conseguirse con la clase [ImageDataGenerator](https://keras.io/preprocessing/image/#imagedatagenerator-class) de Keras.\n",
        "\n",
        "Notas: \n",
        "* Recuerda partir los datos en training/validation para tener una buena estimación de los valores que nuestro modelo tendrá en los datos de test, así como comprobar que no estamos cayendo en overfitting. Una posible partición puede ser 80 / 20.\n",
        "* No es necesario mostrar en el notebook las trazas de entrenamiento de todos los modelos entrenados, si bien una buena idea seria guardar gráficas de esos entrenamientos para el análisis. Sin embargo, **se debe mostrar el entrenamiento completo del mejor modelo obtenido y la evaluación de los datos de test con este modelo**.\n",
        "* Las imágenes **no están normalizadas**. Hay que normalizarlas como hemos hecho en trabajos anteriores.\n",
        "* El test set del problema tiene imágenes un poco más \"fáciles\", por lo que es posible encontrarse con métricas en el test set bastante mejores que en el training set."
      ]
    },
    {
      "cell_type": "markdown",
      "metadata": {
        "colab_type": "text",
        "id": "SseGu3ZTFEig"
      },
      "source": [
        "### Funciones auxiliares"
      ]
    },
    {
      "cell_type": "code",
      "metadata": {
        "colab_type": "code",
        "id": "9s4LcIpcj7CJ",
        "colab": {}
      },
      "source": [
        "# Herramienta para visualizar ejemplos\n",
        "\n",
        "def visualize_example(x):\n",
        "    plt.figure()\n",
        "    plt.imshow(x)\n",
        "    plt.colorbar()\n",
        "    plt.grid(False)\n",
        "    plt.show()\n",
        "    \n",
        "# Analisis del dataset\n",
        "def datasetAnalysis(X):    \n",
        "  trainingSetLength = len(X)\n",
        "  rowsPerImage = len(X[0])\n",
        "  columnsPerImage = len(X[0][0])\n",
        "  coloursPerImage = len(X[0][0][0])\n",
        "  valuesPerPixel = X[0][0][0]\n",
        "\n",
        "  print('La estructura del dataset es: ' + str(X.shape))\n",
        "  print('El tamaño del dataset es de ' + str(trainingSetLength) + ' imágenes.')\n",
        "  print('El tamaño de las imágenes es de ' + str(rowsPerImage) + ' pixeles x ' + str(columnsPerImage) + ' pixeles. Tiene ' + str(coloursPerImage) + ' valores por pixel.')  \n",
        "  print('Los valores que toman están entre ' + str(np.amin(X)) + ' y ' + str(np.amax(X)) + '.')\n",
        "\n",
        "# función para separar el conjunto de datos en validacion y test\n",
        "# x_data, datos\n",
        "# y_data, etiquetas\n",
        "# percentaje, porcentaje de datos a usar para test\n",
        "#\n",
        "# devuelve Datos_validacion, Datos_test, Etiquetas_validacion, Etiquetas_test\n",
        "def extractValidationData(x_data, y_data, percentage):\n",
        "  data_len = len(x_data)\n",
        "  val_data_len = int(percentage * data_len)\n",
        "  return (x_data[-val_data_len:], x_data[:-val_data_len], y_data[-val_data_len:], y_data[:-val_data_len])\n",
        "\n",
        "# comparativa de convergencia con datos entrenados y de validación\n",
        "def accurracyLossComparative(data, title):\n",
        "\n",
        "    f, axs = plt.subplots(1,2, figsize=(12,6))\n",
        "    \n",
        "    f.suptitle(title, fontsize=18)\n",
        "#    axs[0].plot(data.history['acc'])\n",
        "#    axs[0].plot(data.history['val_acc'])\n",
        "    # OJO CUIDADO, para que funcione en collab he tenido que comentar las\n",
        "    # dos lineas anteriores y añadir las dos siguientes\n",
        "    axs[0].plot(data.history['accuracy'])\n",
        "    axs[0].plot(data.history['val_accuracy'])\n",
        "    axs[0].set_xlabel('Epoch', fontsize=16)\n",
        "    axs[0].set_ylabel('Acurracy', fontsize=16)\n",
        "    axs[0].legend(['Entrenamiento', 'Validación'], loc='lower right')\n",
        "\n",
        "    axs[1].plot(data.history['loss'])\n",
        "    axs[1].plot(data.history['val_loss'])\n",
        "    axs[1].set_xlabel('Epoch', fontsize=16)\n",
        "    axs[1].set_ylabel('Loss', fontsize=16)\n",
        "    axs[1].legend(['Entrenamiento', 'Validación'], loc='upper right')          \n",
        "    return"
      ],
      "execution_count": 0,
      "outputs": []
    },
    {
      "cell_type": "code",
      "metadata": {
        "colab_type": "code",
        "id": "4DZ2lSRlj-du",
        "outputId": "347e8363-860d-4d88-9c47-ef66398fa2cb",
        "colab": {
          "base_uri": "https://localhost:8080/",
          "height": 268
        }
      },
      "source": [
        "visualize_example(X[0])"
      ],
      "execution_count": 0,
      "outputs": [
        {
          "output_type": "display_data",
          "data": {
            "image/png": "[encoded data removed]",
            "text/plain": [
              "<Figure size 432x288 with 2 Axes>"
            ]
          },
          "metadata": {
            "tags": [],
            "needs_background": "light"
          }
        }
      ]
    },
    {
      "cell_type": "code",
      "metadata": {
        "colab_type": "code",
        "id": "E1hafhc9q6W-",
        "colab": {}
      },
      "source": [
        "# NO HACE FALTA, LA CLASE SE ENCARGA DE ELLO\n",
        "\n",
        "# Extraemos un 20% de los datos para validación\n",
        "#X_val, X_test, y_val, y_test = extractValidationData(X_t, y_t, 0.2)\n",
        "#print('TRAINING DATASET')\n",
        "#datasetAnalysis(X)\n",
        "#print('TEST DATASET')\n",
        "#datasetAnalysis(X_test)\n",
        "#print('VALIDATION DATASET')\n",
        "#datasetAnalysis(X_val)"
      ],
      "execution_count": 0,
      "outputs": []
    },
    {
      "cell_type": "code",
      "metadata": {
        "colab_type": "code",
        "id": "GgxjiH6TFEiu",
        "colab": {}
      },
      "source": [
        "import time\n",
        "from keras.models import Sequential\n",
        "from keras.layers import Dense, Dropout, Flatten\n",
        "from keras.layers import Conv2D, MaxPooling2D\n",
        "\n",
        "# clase que implementa la red neuronal\n",
        "#  * x_data, datos de entrenamiento\n",
        "#  * y_data, etiqueta de los datos de entrenamiento\n",
        "#  * input_shape, entrada de la red neuronal\n",
        "#  * epochs, epochs\n",
        "#  * batch_size, tamaño del batch\n",
        "#  * metrics, metricas a utilizar\n",
        "#  * lr, learning rate\n",
        "#  * val_percent, indica el tanto por ciento del conjunto de datos que va a \n",
        "#    utilizar para validar el modelo durante el entrenamiento, por defecto\n",
        "#    es un 20 % (0.2)\n",
        "#  * verbose, activar o desactivar modo verbose\n",
        "#\n",
        "# uso:\n",
        "#  * instanciar: mycnn = cnn(x_data, y_data, input_shape, epochs=12, \n",
        "#                            batch_size=128, metrics=['accuracy'], \n",
        "#                            val_percent=0.2, verbose=True))\n",
        "#  * crear la red neuronal: mycnn.create()\n",
        "#  * entrenar: myccn.train()\n",
        "#  * evaluar: mycnn.evaluate(test_data, test_label)\n",
        "class cnn:\n",
        "    def __init__(self, x_data, y_data, input_shape, epochs=12, batch_size=128, metrics=['accuracy'], \n",
        "                 val_percent=0.2, lr= 0.0001, verbose=True):\n",
        "              \n",
        "        self.input_shape = input_shape\n",
        "        self.epochs = epochs\n",
        "        self.batch_size = batch_size\n",
        "        self.metrics = metrics\n",
        "        self.lr = lr\n",
        "        self.x_data = x_data\n",
        "        self.y_data = y_data\n",
        "        self.val_data_len = int(val_percent * len(self.x_data))\n",
        "        # conjunto de entrenamiento\n",
        "        self.train_data = x_data[-self.val_data_len:]\n",
        "        self.train_labels = y_data[-self.val_data_len:]\n",
        "        # conjunto de validación\n",
        "        self.val_data = x_data[:-self.val_data_len]\n",
        "        self.val_labels = y_data[:-self.val_data_len]\n",
        "        self.time = ''\n",
        "        self.history = ''\n",
        "        self.accuracy = ''\n",
        "        \n",
        "        self.verbose = verbose\n",
        "        \n",
        "    # definimos la red neuronal\n",
        "    def create(self):\n",
        "        self.cnn = Sequential()\n",
        "\n",
        "        # 2D convolution with 32 filters, 3x3 kernel\n",
        "        #self.cnn.add(Conv2D(64, kernel_size=(3, 3), activation='relu', input_shape=self.input_shape))\n",
        "        #self.cnn.add(Conv2D(64, (3, 3), activation='relu'))\n",
        "        #self.cnn.add(MaxPooling2D(pool_size=(3, 3)))\n",
        "        #self.cnn.add(Dropout(0.25))\n",
        "        \n",
        "        # necesitamos un vector ya que la siguiente capa es una dense, por eso usamos flatten\n",
        "        #self.cnn.add(Flatten())\n",
        "        #self.cnn.add(Dense(128, activation='relu'))\n",
        "        #self.cnn.add(Dropout(0.5))\n",
        "        #self.cnn.add(Dense(num_classes, activation='softmax'))\n",
        "\n",
        "        #self.cnn.compile(loss=keras.losses.categorical_crossentropy,\n",
        "        #                 optimizer=keras.optimizers.Adadelta(),\n",
        "        #                 metrics=self.metrics)\n",
        "        \n",
        "        self.cnn.add(Conv2D(32, 3, 3, border_mode='same', input_shape=self.input_shape, activation='relu'))\n",
        "        self.cnn.add(Conv2D(32, 3, 3, border_mode='same', activation='relu'))\n",
        "        self.cnn.add(MaxPooling2D(pool_size=(2, 2)))\n",
        "\n",
        "        self.cnn.add(Conv2D(64, 3, 3, border_mode='same', activation='relu'))\n",
        "        self.cnn.add(Conv2D(64, 3, 3, border_mode='same', activation='relu'))\n",
        "        self.cnn.add(MaxPooling2D(pool_size=(2, 2)))\n",
        "\n",
        "        self.cnn.add(Conv2D(128, 3, 3, border_mode='same', activation='relu'))\n",
        "        self.cnn.add(Conv2D(128, 3, 3, border_mode='same', activation='relu'))\n",
        "        self.cnn.add(MaxPooling2D(pool_size=(2, 2)))\n",
        "\n",
        "        self.cnn.add(Conv2D(256, 3, 3, border_mode='same', activation='relu'))\n",
        "        self.cnn.add(Conv2D(256, 3, 3, border_mode='same', activation='relu'))\n",
        "        self.cnn.add(MaxPooling2D(pool_size=(2, 2)))\n",
        "\n",
        "        self.cnn.add(Flatten())\n",
        "        self.cnn.add(Dense(256, activation='relu'))\n",
        "        self.cnn.add(Dropout(0.5))\n",
        "\n",
        "        self.cnn.add(Dense(256, activation='relu'))\n",
        "        self.cnn.add(Dropout(0.5))\n",
        "\n",
        "        self.cnn.add(Dense(num_classes, activation='softmax'))\n",
        "\n",
        "        self.cnn.compile(loss=keras.losses.categorical_crossentropy,\n",
        "                         optimizer=keras.optimizers.RMSprop(lr=self.lr),\n",
        "                         metrics=self.metrics)\n",
        "        \n",
        "        return\n",
        "    \n",
        "    # información sobre la red neuronal\n",
        "    def getSummary(self):\n",
        "        return self.cnn.summary()\n",
        "       \n",
        "    # entrenar el modelo\n",
        "    def train(self):\n",
        "        # cuando iniciamos el entrenamiento\n",
        "        self.start = time.time()\n",
        "        self.history = self.cnn.fit(self.train_data, self.train_labels,\n",
        "                                    batch_size=self.batch_size,\n",
        "                                    epochs=self.epochs,\n",
        "                                    verbose=self.verbose,\n",
        "                                    validation_data=(self.val_data, self.val_labels))     \n",
        "\n",
        "        # cuando terminamos el entrenamiento\n",
        "        self.end = time.time()\n",
        "        # tiempo que ha tardado en entrenar\n",
        "        self.time = self.end - self.start\n",
        "        \n",
        "    # recuperar el tiempo que se ha tardado en entrenar\n",
        "    def getTime(self):\n",
        "        return self.time\n",
        "    \n",
        "    # evaluar el modelo\n",
        "    def evaluate(self, test_data, test_label):\n",
        "        self.accuracy = self.cnn.evaluate(test_data, test_label, verbose=self.verbose)\n",
        "          \n",
        "    # loss (sobre el conjunto de test)\n",
        "    def getLoss(self):\n",
        "        return self.accuracy[0]\n",
        "    \n",
        "    # accuracy (sobre el conjunto de test)\n",
        "    def getAccuracy(self):\n",
        "        return self.accuracy[1]  \n",
        "   \n",
        "    # history\n",
        "    def getHistory(self):\n",
        "        return self.history"
      ],
      "execution_count": 0,
      "outputs": []
    },
    {
      "cell_type": "markdown",
      "metadata": {
        "colab_type": "text",
        "id": "OjSlDkZWFEiz"
      },
      "source": [
        "Normalizamos las imagenes para ser usadas en la red neuronal:"
      ]
    },
    {
      "cell_type": "code",
      "metadata": {
        "colab_type": "code",
        "id": "ViDmBN1dFEi0",
        "outputId": "1b331b23-37e2-4c32-d392-66f6c248c3e4",
        "colab": {
          "base_uri": "https://localhost:8080/",
          "height": 85
        }
      },
      "source": [
        "print(\"X train\" + str(X.shape))\n",
        "print(\"Y train\" + str(y.shape))\n",
        "print(\"X test\" + str(X_t.shape))\n",
        "print(\"Y test\" + str(y_t.shape))\n",
        "#print(\"X val\" + str(X_val.shape))\n",
        "#print(\"Y val\" + str(y_val.shape))"
      ],
      "execution_count": 0,
      "outputs": [
        {
          "output_type": "stream",
          "text": [
            "X train(18992, 64, 64, 3)\n",
            "Y train(18992,)\n",
            "X test(890, 64, 64, 3)\n",
            "Y test(890,)\n"
          ],
          "name": "stdout"
        }
      ]
    },
    {
      "cell_type": "code",
      "metadata": {
        "colab_type": "code",
        "id": "Ha9Lv0TXFEi4",
        "colab": {}
      },
      "source": [
        "# Vamos a comprobar las dimensiones una vez reajustamos las matrices\n",
        "num_classes = 18\n",
        "y = keras.utils.to_categorical(y, num_classes)\n",
        "y_t = keras.utils.to_categorical(y_t, num_classes)\n",
        "#y_val = keras.utils.to_categorical(y_val, num_classes)"
      ],
      "execution_count": 0,
      "outputs": []
    },
    {
      "cell_type": "code",
      "metadata": {
        "colab_type": "code",
        "id": "i75ZMzkFFEi8",
        "outputId": "7acf98ac-fde1-4cc3-9b56-1fd19c6f13ba",
        "colab": {
          "base_uri": "https://localhost:8080/",
          "height": 85
        }
      },
      "source": [
        "print(\"X train\" + str(X.shape))\n",
        "print(\"Y train\" + str(y.shape))\n",
        "print(\"X test\" + str(X_t.shape))\n",
        "print(\"Y test\" + str(y_t.shape))\n",
        "#print(\"X val\" + str(X_val.shape))\n",
        "#print(\"Y val\" + str(y_val.shape))"
      ],
      "execution_count": 0,
      "outputs": [
        {
          "output_type": "stream",
          "text": [
            "X train(18992, 64, 64, 3)\n",
            "Y train(18992, 18)\n",
            "X test(890, 64, 64, 3)\n",
            "Y test(890, 18)\n"
          ],
          "name": "stdout"
        }
      ]
    },
    {
      "cell_type": "code",
      "metadata": {
        "colab_type": "code",
        "id": "8WUlaQ5aFEjA",
        "colab": {}
      },
      "source": [
        "from keras import backend as K\n",
        "\n",
        "# comprobamos como nos vienen los caanels RGB en la imagen y lo adaptamos.\n",
        "# tenemos que cambiar otra vez las imagenes para que coja los cnaales bien\n",
        "\n",
        "if K.image_data_format() == 'channels_first':\n",
        "  X = X.reshape(X.shape[0], 3, IMG_SIZE, IMG_SIZE)\n",
        "  X_t = X_t.reshape(X_t.shape[0], 3, IMG_SIZE, IMG_SIZE)\n",
        "#  X_val = X_val.reshape(X_val.shape[0], 3, IMG_SIZE, IMG_SIZE)\n",
        "  input_shape_data = (3, IMG_SIZE, IMG_SIZE)\n",
        "else:\n",
        "  X = X.reshape(X.shape[0], IMG_SIZE, IMG_SIZE, 3)\n",
        "  X_t = X_t.reshape(X_t.shape[0], IMG_SIZE, IMG_SIZE, 3)\n",
        "#  X_val = X_val.reshape(X_val.shape[0], IMG_SIZE, IMG_SIZE,3)\n",
        "  input_shape_data = (IMG_SIZE, IMG_SIZE,3)"
      ],
      "execution_count": 0,
      "outputs": []
    },
    {
      "cell_type": "code",
      "metadata": {
        "colab_type": "code",
        "id": "Xat3G6XRFEjJ",
        "outputId": "a50443e4-dc2c-4b94-ecb3-cc91091491d2",
        "colab": {
          "base_uri": "https://localhost:8080/",
          "height": 85
        }
      },
      "source": [
        "print(\"X train\" + str(X.shape))\n",
        "print(\"Y train\" + str(y.shape))\n",
        "print(\"X test\" + str(X_t.shape))\n",
        "print(\"Y test\" + str(y_t.shape))\n",
        "#print(\"X val\" + str(X_val.shape))\n",
        "#print(\"Y val\" + str(y_val.shape))"
      ],
      "execution_count": 0,
      "outputs": [
        {
          "output_type": "stream",
          "text": [
            "X train(18992, 64, 64, 3)\n",
            "Y train(18992, 18)\n",
            "X test(890, 64, 64, 3)\n",
            "Y test(890, 18)\n"
          ],
          "name": "stdout"
        }
      ]
    },
    {
      "cell_type": "markdown",
      "metadata": {
        "colab_type": "text",
        "id": "V42qzJvvKH-I"
      },
      "source": [
        "Creamos y entrenamos la red neuronal:"
      ]
    },
    {
      "cell_type": "code",
      "metadata": {
        "colab_type": "code",
        "id": "I608YaEMFEjS",
        "outputId": "f5e86d3e-f2b7-44af-9e2b-40562e70ac46",
        "colab": {
          "base_uri": "https://localhost:8080/",
          "height": 1000
        }
      },
      "source": [
        "\n",
        "mycnn = cnn(X, y, input_shape_data, epochs=32, batch_size=128, metrics=['accuracy'], val_percent=0.20, lr=0.0001, verbose=True)\n",
        "\n",
        "mycnn.create()\n",
        "mycnn.getSummary()\n",
        "mycnn.train()"
      ],
      "execution_count": 0,
      "outputs": [
        {
          "output_type": "stream",
          "text": [
            "/usr/local/lib/python3.6/dist-packages/ipykernel_launcher.py:69: UserWarning: Update your `Conv2D` call to the Keras 2 API: `Conv2D(32, (3, 3), input_shape=(64, 64, 3..., activation=\"relu\", padding=\"same\")`\n",
            "/usr/local/lib/python3.6/dist-packages/ipykernel_launcher.py:70: UserWarning: Update your `Conv2D` call to the Keras 2 API: `Conv2D(32, (3, 3), activation=\"relu\", padding=\"same\")`\n",
            "/usr/local/lib/python3.6/dist-packages/ipykernel_launcher.py:73: UserWarning: Update your `Conv2D` call to the Keras 2 API: `Conv2D(64, (3, 3), activation=\"relu\", padding=\"same\")`\n",
            "/usr/local/lib/python3.6/dist-packages/ipykernel_launcher.py:74: UserWarning: Update your `Conv2D` call to the Keras 2 API: `Conv2D(64, (3, 3), activation=\"relu\", padding=\"same\")`\n",
            "/usr/local/lib/python3.6/dist-packages/ipykernel_launcher.py:77: UserWarning: Update your `Conv2D` call to the Keras 2 API: `Conv2D(128, (3, 3), activation=\"relu\", padding=\"same\")`\n",
            "/usr/local/lib/python3.6/dist-packages/ipykernel_launcher.py:78: UserWarning: Update your `Conv2D` call to the Keras 2 API: `Conv2D(128, (3, 3), activation=\"relu\", padding=\"same\")`\n",
            "/usr/local/lib/python3.6/dist-packages/ipykernel_launcher.py:81: UserWarning: Update your `Conv2D` call to the Keras 2 API: `Conv2D(256, (3, 3), activation=\"relu\", padding=\"same\")`\n",
            "/usr/local/lib/python3.6/dist-packages/ipykernel_launcher.py:82: UserWarning: Update your `Conv2D` call to the Keras 2 API: `Conv2D(256, (3, 3), activation=\"relu\", padding=\"same\")`\n"
          ],
          "name": "stderr"
        },
        {
          "output_type": "stream",
          "text": [
            "Model: \"sequential_4\"\n",
            "_________________________________________________________________\n",
            "Layer (type)                 Output Shape              Param #   \n",
            "=================================================================\n",
            "conv2d_9 (Conv2D)            (None, 64, 64, 32)        896       \n",
            "_________________________________________________________________\n",
            "conv2d_10 (Conv2D)           (None, 64, 64, 32)        9248      \n",
            "_________________________________________________________________\n",
            "max_pooling2d_5 (MaxPooling2 (None, 32, 32, 32)        0         \n",
            "_________________________________________________________________\n",
            "conv2d_11 (Conv2D)           (None, 32, 32, 64)        18496     \n",
            "_________________________________________________________________\n",
            "conv2d_12 (Conv2D)           (None, 32, 32, 64)        36928     \n",
            "_________________________________________________________________\n",
            "max_pooling2d_6 (MaxPooling2 (None, 16, 16, 64)        0         \n",
            "_________________________________________________________________\n",
            "conv2d_13 (Conv2D)           (None, 16, 16, 128)       73856     \n",
            "_________________________________________________________________\n",
            "conv2d_14 (Conv2D)           (None, 16, 16, 128)       147584    \n",
            "_________________________________________________________________\n",
            "max_pooling2d_7 (MaxPooling2 (None, 8, 8, 128)         0         \n",
            "_________________________________________________________________\n",
            "conv2d_15 (Conv2D)           (None, 8, 8, 256)         295168    \n",
            "_________________________________________________________________\n",
            "conv2d_16 (Conv2D)           (None, 8, 8, 256)         590080    \n",
            "_________________________________________________________________\n",
            "max_pooling2d_8 (MaxPooling2 (None, 4, 4, 256)         0         \n",
            "_________________________________________________________________\n",
            "flatten_2 (Flatten)          (None, 4096)              0         \n",
            "_________________________________________________________________\n",
            "dense_4 (Dense)              (None, 256)               1048832   \n",
            "_________________________________________________________________\n",
            "dropout_3 (Dropout)          (None, 256)               0         \n",
            "_________________________________________________________________\n",
            "dense_5 (Dense)              (None, 256)               65792     \n",
            "_________________________________________________________________\n",
            "dropout_4 (Dropout)          (None, 256)               0         \n",
            "_________________________________________________________________\n",
            "dense_6 (Dense)              (None, 18)                4626      \n",
            "=================================================================\n",
            "Total params: 2,291,506\n",
            "Trainable params: 2,291,506\n",
            "Non-trainable params: 0\n",
            "_________________________________________________________________\n",
            "Train on 3798 samples, validate on 15194 samples\n",
            "Epoch 1/32\n",
            "3798/3798 [==============================] - 3s 689us/step - loss: 3.1733 - accuracy: 0.0787 - val_loss: 2.8239 - val_accuracy: 0.1174\n",
            "Epoch 2/32\n",
            "3798/3798 [==============================] - 2s 617us/step - loss: 2.8420 - accuracy: 0.1006 - val_loss: 2.7531 - val_accuracy: 0.1543\n",
            "Epoch 3/32\n",
            "3798/3798 [==============================] - 2s 615us/step - loss: 2.7825 - accuracy: 0.1309 - val_loss: 2.6837 - val_accuracy: 0.1807\n",
            "Epoch 4/32\n",
            "3798/3798 [==============================] - 2s 617us/step - loss: 2.7243 - accuracy: 0.1522 - val_loss: 2.6012 - val_accuracy: 0.1982\n",
            "Epoch 5/32\n",
            "3798/3798 [==============================] - 2s 620us/step - loss: 2.6482 - accuracy: 0.1767 - val_loss: 2.5112 - val_accuracy: 0.2434\n",
            "Epoch 6/32\n",
            "3798/3798 [==============================] - 2s 615us/step - loss: 2.5633 - accuracy: 0.2062 - val_loss: 2.4206 - val_accuracy: 0.2521\n",
            "Epoch 7/32\n",
            "3798/3798 [==============================] - 2s 616us/step - loss: 2.5134 - accuracy: 0.2156 - val_loss: 2.3754 - val_accuracy: 0.3193\n",
            "Epoch 8/32\n",
            "3798/3798 [==============================] - 2s 620us/step - loss: 2.4478 - accuracy: 0.2388 - val_loss: 2.3302 - val_accuracy: 0.3039\n",
            "Epoch 9/32\n",
            "3798/3798 [==============================] - 2s 612us/step - loss: 2.3879 - accuracy: 0.2533 - val_loss: 2.2924 - val_accuracy: 0.2934\n",
            "Epoch 10/32\n",
            "3798/3798 [==============================] - 2s 616us/step - loss: 2.3428 - accuracy: 0.2873 - val_loss: 2.2167 - val_accuracy: 0.3707\n",
            "Epoch 11/32\n",
            "3798/3798 [==============================] - 2s 610us/step - loss: 2.2565 - accuracy: 0.3038 - val_loss: 2.0822 - val_accuracy: 0.3948\n",
            "Epoch 12/32\n",
            "3798/3798 [==============================] - 2s 609us/step - loss: 2.1781 - accuracy: 0.3262 - val_loss: 1.9911 - val_accuracy: 0.4085\n",
            "Epoch 13/32\n",
            "3798/3798 [==============================] - 2s 615us/step - loss: 2.0756 - accuracy: 0.3665 - val_loss: 1.9146 - val_accuracy: 0.4420\n",
            "Epoch 14/32\n",
            "3798/3798 [==============================] - 2s 614us/step - loss: 2.0515 - accuracy: 0.3765 - val_loss: 1.8369 - val_accuracy: 0.4699\n",
            "Epoch 15/32\n",
            "3798/3798 [==============================] - 2s 611us/step - loss: 1.9620 - accuracy: 0.3986 - val_loss: 1.8006 - val_accuracy: 0.4803\n",
            "Epoch 16/32\n",
            "3798/3798 [==============================] - 2s 618us/step - loss: 1.9114 - accuracy: 0.4236 - val_loss: 1.7707 - val_accuracy: 0.4907\n",
            "Epoch 17/32\n",
            "3798/3798 [==============================] - 2s 609us/step - loss: 1.8299 - accuracy: 0.4394 - val_loss: 1.7166 - val_accuracy: 0.5142\n",
            "Epoch 18/32\n",
            "3798/3798 [==============================] - 2s 621us/step - loss: 1.7392 - accuracy: 0.4684 - val_loss: 1.6801 - val_accuracy: 0.5071\n",
            "Epoch 19/32\n",
            "3798/3798 [==============================] - 2s 620us/step - loss: 1.6781 - accuracy: 0.4879 - val_loss: 1.6074 - val_accuracy: 0.5281\n",
            "Epoch 20/32\n",
            "3798/3798 [==============================] - 2s 624us/step - loss: 1.6350 - accuracy: 0.5029 - val_loss: 1.5809 - val_accuracy: 0.5247\n",
            "Epoch 21/32\n",
            "3798/3798 [==============================] - 2s 612us/step - loss: 1.5582 - accuracy: 0.5184 - val_loss: 1.5500 - val_accuracy: 0.5521\n",
            "Epoch 22/32\n",
            "3798/3798 [==============================] - 2s 618us/step - loss: 1.5069 - accuracy: 0.5424 - val_loss: 1.4922 - val_accuracy: 0.5657\n",
            "Epoch 23/32\n",
            "3798/3798 [==============================] - 2s 612us/step - loss: 1.4381 - accuracy: 0.5556 - val_loss: 1.4278 - val_accuracy: 0.5781\n",
            "Epoch 24/32\n",
            "3798/3798 [==============================] - 2s 609us/step - loss: 1.3846 - accuracy: 0.5727 - val_loss: 1.4640 - val_accuracy: 0.5744\n",
            "Epoch 25/32\n",
            "3798/3798 [==============================] - 2s 619us/step - loss: 1.3164 - accuracy: 0.5845 - val_loss: 1.4171 - val_accuracy: 0.5825\n",
            "Epoch 26/32\n",
            "3798/3798 [==============================] - 2s 616us/step - loss: 1.2577 - accuracy: 0.6101 - val_loss: 1.3594 - val_accuracy: 0.5967\n",
            "Epoch 27/32\n",
            "3798/3798 [==============================] - 2s 613us/step - loss: 1.2279 - accuracy: 0.6261 - val_loss: 1.3215 - val_accuracy: 0.6076\n",
            "Epoch 28/32\n",
            "3798/3798 [==============================] - 2s 618us/step - loss: 1.1551 - accuracy: 0.6432 - val_loss: 1.3218 - val_accuracy: 0.6133\n",
            "Epoch 29/32\n",
            "3798/3798 [==============================] - 2s 618us/step - loss: 1.1074 - accuracy: 0.6572 - val_loss: 1.4761 - val_accuracy: 0.5684\n",
            "Epoch 30/32\n",
            "3798/3798 [==============================] - 2s 612us/step - loss: 1.0553 - accuracy: 0.6709 - val_loss: 1.3880 - val_accuracy: 0.5910\n",
            "Epoch 31/32\n",
            "3798/3798 [==============================] - 2s 610us/step - loss: 0.9971 - accuracy: 0.6925 - val_loss: 1.2261 - val_accuracy: 0.6339\n",
            "Epoch 32/32\n",
            "3798/3798 [==============================] - 2s 623us/step - loss: 0.9575 - accuracy: 0.7093 - val_loss: 1.2223 - val_accuracy: 0.6404\n"
          ],
          "name": "stdout"
        }
      ]
    },
    {
      "cell_type": "markdown",
      "metadata": {
        "colab_type": "text",
        "id": "05xt97uAKSe0"
      },
      "source": [
        "Evaluamos la red neuronal y obtenemos accuracy:"
      ]
    },
    {
      "cell_type": "code",
      "metadata": {
        "colab_type": "code",
        "id": "w66TsBvaFEjX",
        "outputId": "e1f3789b-cc4a-4f0b-cff4-09798dc6c867",
        "colab": {
          "base_uri": "https://localhost:8080/",
          "height": 51
        }
      },
      "source": [
        "mycnn.evaluate(X_t, y_t)\n",
        "mycnn.getAccuracy()"
      ],
      "execution_count": 0,
      "outputs": [
        {
          "output_type": "stream",
          "text": [
            "890/890 [==============================] - 0s 171us/step\n"
          ],
          "name": "stdout"
        },
        {
          "output_type": "execute_result",
          "data": {
            "text/plain": [
              "0.6820224523544312"
            ]
          },
          "metadata": {
            "tags": []
          },
          "execution_count": 27
        }
      ]
    },
    {
      "cell_type": "markdown",
      "metadata": {
        "colab_type": "text",
        "id": "UnpxjfeZLYQn"
      },
      "source": [
        "Perdida:"
      ]
    },
    {
      "cell_type": "code",
      "metadata": {
        "colab_type": "code",
        "id": "ROMBuj5UKacl",
        "outputId": "a8f9ebbd-ceb8-47ac-f833-aa952df8b4c8",
        "colab": {
          "base_uri": "https://localhost:8080/",
          "height": 34
        }
      },
      "source": [
        "mycnn.getLoss()"
      ],
      "execution_count": 0,
      "outputs": [
        {
          "output_type": "execute_result",
          "data": {
            "text/plain": [
              "2.7940491408444523"
            ]
          },
          "metadata": {
            "tags": []
          },
          "execution_count": 22
        }
      ]
    },
    {
      "cell_type": "markdown",
      "metadata": {
        "colab_type": "text",
        "id": "_HpG60isLlFj"
      },
      "source": [
        "Tiempo en entrenamiento (segundos):"
      ]
    },
    {
      "cell_type": "code",
      "metadata": {
        "colab_type": "code",
        "id": "B047gPrWLfWU",
        "outputId": "b4adb1cd-8773-48a7-8ab0-1970411a905b",
        "colab": {
          "base_uri": "https://localhost:8080/",
          "height": 34
        }
      },
      "source": [
        "mycnn.getTime()"
      ],
      "execution_count": 0,
      "outputs": [
        {
          "output_type": "execute_result",
          "data": {
            "text/plain": [
              "35.33756470680237"
            ]
          },
          "metadata": {
            "tags": []
          },
          "execution_count": 23
        }
      ]
    },
    {
      "cell_type": "markdown",
      "metadata": {
        "colab_type": "text",
        "id": "N_oCGvsmOOf0"
      },
      "source": [
        "Comparativa precision - perdida:"
      ]
    },
    {
      "cell_type": "code",
      "metadata": {
        "colab_type": "code",
        "id": "f3ZRET1RLtuo",
        "outputId": "712d6905-ae59-442c-cef4-0778a3c0478c",
        "colab": {
          "base_uri": "https://localhost:8080/",
          "height": 436
        }
      },
      "source": [
        "accurracyLossComparative(mycnn.getHistory(), 'Titulo molon' )"
      ],
      "execution_count": 0,
      "outputs": [
        {
          "output_type": "display_data",
          "data": {
            "image/png": "[encoded data removed]",
            "text/plain": [
              "<Figure size 864x432 with 2 Axes>"
            ]
          },
          "metadata": {
            "tags": [],
            "needs_background": "light"
          }
        }
      ]
    },
    {
      "cell_type": "code",
      "metadata": {
        "colab_type": "code",
        "id": "UE-fRQRuPib8",
        "colab": {}
      },
      "source": [
        "import time\n",
        "# https://blog.keras.io/building-powerful-image-classification-models-using-very-little-data.html\n",
        "from keras.preprocessing.image import ImageDataGenerator\n",
        "from keras.models import Sequential\n",
        "from keras.layers import Dense, Dropout, Flatten\n",
        "from keras.layers import Conv2D, MaxPooling2D\n",
        "\n",
        "# clase que implementa la red neuronal\n",
        "#  * x_data, datos de entrenamiento\n",
        "#  * y_data, etiqueta de los datos de entrenamiento\n",
        "#  * input_shape, entrada de la red neuronal\n",
        "#  * epochs, epochs\n",
        "#  * batch_size, tamaño del batch\n",
        "#  * metrics, metricas a utilizar\n",
        "#  * lr, learning rate\n",
        "#  * val_percent, indica el tanto por ciento del conjunto de datos que va a \n",
        "#    utilizar para validar el modelo durante el entrenamiento, por defecto\n",
        "#    es un 20 % (0.2)\n",
        "#  * verbose, activar o desactivar modo verbose\n",
        "#\n",
        "# uso:\n",
        "#  * instanciar: mycnn = cnn(x_data, y_data, input_shape, epochs=12, \n",
        "#                            batch_size=128, metrics=['accuracy'], \n",
        "#                            val_percent=0.2, verbose=True))\n",
        "#  * crear la red neuronal: mycnn.create()\n",
        "#  * entrenar: myccn.train()\n",
        "#  * evaluar: mycnn.evaluate(test_data, test_label)\n",
        "class cnn2:\n",
        "    def __init__(self, x_data, y_data, input_shape, epochs=12, batch_size=128, metrics=['accuracy'], \n",
        "                 val_percent=0.2, lr= 0.0001, verbose=True):\n",
        "              \n",
        "        self.input_shape = input_shape\n",
        "        self.epochs = epochs\n",
        "        self.batch_size = batch_size\n",
        "        self.metrics = metrics\n",
        "        self.lr = lr\n",
        "        self.x_data = x_data\n",
        "        self.y_data = y_data\n",
        "        self.val_data_len = int(val_percent * len(self.x_data))\n",
        "        # conjunto de entrenamiento\n",
        "        self.train_data = x_data[-self.val_data_len:]\n",
        "        self.train_labels = y_data[-self.val_data_len:]\n",
        "        # conjunto de validación\n",
        "        self.val_data = x_data[:-self.val_data_len]\n",
        "        self.val_labels = y_data[:-self.val_data_len]\n",
        "        self.time = ''\n",
        "        self.history = ''\n",
        "        self.accuracy = ''\n",
        "        \n",
        "        self.verbose = verbose\n",
        "        \n",
        "    # definimos la red neuronal\n",
        "    def create(self):\n",
        "        self.cnn = Sequential()\n",
        "       \n",
        "        self.cnn.add(Conv2D(32, 3, 3, border_mode='same', input_shape=self.input_shape, activation='relu'))\n",
        "        self.cnn.add(Conv2D(32, 3, 3, border_mode='same', activation='relu'))\n",
        "        self.cnn.add(MaxPooling2D(pool_size=(2, 2)))\n",
        "\n",
        "        self.cnn.add(Conv2D(64, 3, 3, border_mode='same', activation='relu'))\n",
        "        self.cnn.add(Conv2D(64, 3, 3, border_mode='same', activation='relu'))\n",
        "        self.cnn.add(MaxPooling2D(pool_size=(2, 2)))\n",
        "\n",
        "        self.cnn.add(Conv2D(128, 3, 3, border_mode='same', activation='relu'))\n",
        "        self.cnn.add(Conv2D(128, 3, 3, border_mode='same', activation='relu'))\n",
        "        self.cnn.add(MaxPooling2D(pool_size=(2, 2)))\n",
        "\n",
        "        self.cnn.add(Conv2D(256, 3, 3, border_mode='same', activation='relu'))\n",
        "        self.cnn.add(Conv2D(256, 3, 3, border_mode='same', activation='relu'))\n",
        "        self.cnn.add(MaxPooling2D(pool_size=(2, 2)))\n",
        "\n",
        "        self.cnn.add(Flatten())\n",
        "        self.cnn.add(Dense(256, activation='relu'))\n",
        "        self.cnn.add(Dropout(0.5))\n",
        "\n",
        "        self.cnn.add(Dense(256, activation='relu'))\n",
        "        self.cnn.add(Dropout(0.5))\n",
        "\n",
        "        self.cnn.add(Dense(num_classes, activation='softmax'))\n",
        "\n",
        "        self.cnn.compile(loss=keras.losses.categorical_crossentropy,\n",
        "                         optimizer=keras.optimizers.RMSprop(lr=self.lr),\n",
        "                         metrics=self.metrics)\n",
        "        \n",
        "        return\n",
        "    \n",
        "    # información sobre la red neuronal\n",
        "    def getSummary(self):\n",
        "        return self.cnn.summary()\n",
        "       \n",
        "    # entrenar el modelo\n",
        "    def train(self):\n",
        "        # data augmentation\n",
        "        self.train_augmentation = ImageDataGenerator(featurewise_center=True,\n",
        "                                                     featurewise_std_normalization=True,\n",
        "                                                     rotation_range=20,\n",
        "                                                     width_shift_range=0.2,\n",
        "                                                     height_shift_range=0.2,\n",
        "                                                     horizontal_flip=True)\n",
        "        \n",
        "        # cuando iniciamos el entrenamiento\n",
        "        self.start = time.time()\n",
        "#        self.history = self.cnn.fit(self.train_data, self.train_labels,\n",
        "#                                    batch_size=self.batch_size,\n",
        "#                                    epochs=self.epochs,\n",
        "#                                    verbose=self.verbose,\n",
        "#                                    validation_data=(self.val_data, self.val_labels))     \n",
        "\n",
        "        self.history = self.cnn.fit(self.train_augmentation.flow(self.train_data, self.train_labels, batch_size=self.batch_size,),\n",
        "                                    epochs=self.epochs,\n",
        "                                    verbose=self.verbose,\n",
        "                                    validation_data=(self.val_data, self.val_labels)) \n",
        "\n",
        "\n",
        "        # cuando terminamos el entrenamiento\n",
        "        self.end = time.time()\n",
        "        # tiempo que ha tardado en entrenar\n",
        "        self.time = self.end - self.start\n",
        "        \n",
        "    # recuperar el tiempo que se ha tardado en entrenar\n",
        "    def getTime(self):\n",
        "        return self.time\n",
        "    \n",
        "    # evaluar el modelo\n",
        "    def evaluate(self, test_data, test_label):\n",
        "        self.accuracy = self.cnn.evaluate(test_data, test_label, verbose=self.verbose)\n",
        "          \n",
        "    # loss (sobre el conjunto de test)\n",
        "    def getLoss(self):\n",
        "        return self.accuracy[0]\n",
        "    \n",
        "    # accuracy (sobre el conjunto de test)\n",
        "    def getAccuracy(self):\n",
        "        return self.accuracy[1]  \n",
        "   \n",
        "    # history\n",
        "    def getHistory(self):\n",
        "        return self.history"
      ],
      "execution_count": 0,
      "outputs": []
    },
    {
      "cell_type": "code",
      "metadata": {
        "colab_type": "code",
        "id": "Mg-uK6nA9kgq",
        "outputId": "d264741d-9854-471a-aec6-2ca174fc9b17",
        "colab": {
          "base_uri": "https://localhost:8080/",
          "height": 1000
        }
      },
      "source": [
        "mycnn2 = cnn2(X, y, input_shape_data, epochs=32, batch_size=128, metrics=['accuracy'], val_percent=0.20, lr=0.0001, verbose=True)\n",
        "\n",
        "mycnn2.create()\n",
        "mycnn2.getSummary()\n",
        "mycnn2.train()"
      ],
      "execution_count": 0,
      "outputs": [
        {
          "output_type": "stream",
          "text": [
            "/usr/local/lib/python3.6/dist-packages/ipykernel_launcher.py:56: UserWarning: Update your `Conv2D` call to the Keras 2 API: `Conv2D(32, (3, 3), input_shape=(64, 64, 3..., activation=\"relu\", padding=\"same\")`\n",
            "/usr/local/lib/python3.6/dist-packages/ipykernel_launcher.py:57: UserWarning: Update your `Conv2D` call to the Keras 2 API: `Conv2D(32, (3, 3), activation=\"relu\", padding=\"same\")`\n",
            "/usr/local/lib/python3.6/dist-packages/ipykernel_launcher.py:60: UserWarning: Update your `Conv2D` call to the Keras 2 API: `Conv2D(64, (3, 3), activation=\"relu\", padding=\"same\")`\n",
            "/usr/local/lib/python3.6/dist-packages/ipykernel_launcher.py:61: UserWarning: Update your `Conv2D` call to the Keras 2 API: `Conv2D(64, (3, 3), activation=\"relu\", padding=\"same\")`\n",
            "/usr/local/lib/python3.6/dist-packages/ipykernel_launcher.py:64: UserWarning: Update your `Conv2D` call to the Keras 2 API: `Conv2D(128, (3, 3), activation=\"relu\", padding=\"same\")`\n",
            "/usr/local/lib/python3.6/dist-packages/ipykernel_launcher.py:65: UserWarning: Update your `Conv2D` call to the Keras 2 API: `Conv2D(128, (3, 3), activation=\"relu\", padding=\"same\")`\n",
            "/usr/local/lib/python3.6/dist-packages/ipykernel_launcher.py:68: UserWarning: Update your `Conv2D` call to the Keras 2 API: `Conv2D(256, (3, 3), activation=\"relu\", padding=\"same\")`\n",
            "/usr/local/lib/python3.6/dist-packages/ipykernel_launcher.py:69: UserWarning: Update your `Conv2D` call to the Keras 2 API: `Conv2D(256, (3, 3), activation=\"relu\", padding=\"same\")`\n"
          ],
          "name": "stderr"
        },
        {
          "output_type": "stream",
          "text": [
            "Model: \"sequential_7\"\n",
            "_________________________________________________________________\n",
            "Layer (type)                 Output Shape              Param #   \n",
            "=================================================================\n",
            "conv2d_33 (Conv2D)           (None, 64, 64, 32)        896       \n",
            "_________________________________________________________________\n",
            "conv2d_34 (Conv2D)           (None, 64, 64, 32)        9248      \n",
            "_________________________________________________________________\n",
            "max_pooling2d_17 (MaxPooling (None, 32, 32, 32)        0         \n",
            "_________________________________________________________________\n",
            "conv2d_35 (Conv2D)           (None, 32, 32, 64)        18496     \n",
            "_________________________________________________________________\n",
            "conv2d_36 (Conv2D)           (None, 32, 32, 64)        36928     \n",
            "_________________________________________________________________\n",
            "max_pooling2d_18 (MaxPooling (None, 16, 16, 64)        0         \n",
            "_________________________________________________________________\n",
            "conv2d_37 (Conv2D)           (None, 16, 16, 128)       73856     \n",
            "_________________________________________________________________\n",
            "conv2d_38 (Conv2D)           (None, 16, 16, 128)       147584    \n",
            "_________________________________________________________________\n",
            "max_pooling2d_19 (MaxPooling (None, 8, 8, 128)         0         \n",
            "_________________________________________________________________\n",
            "conv2d_39 (Conv2D)           (None, 8, 8, 256)         295168    \n",
            "_________________________________________________________________\n",
            "conv2d_40 (Conv2D)           (None, 8, 8, 256)         590080    \n",
            "_________________________________________________________________\n",
            "max_pooling2d_20 (MaxPooling (None, 4, 4, 256)         0         \n",
            "_________________________________________________________________\n",
            "flatten_5 (Flatten)          (None, 4096)              0         \n",
            "_________________________________________________________________\n",
            "dense_13 (Dense)             (None, 256)               1048832   \n",
            "_________________________________________________________________\n",
            "dropout_9 (Dropout)          (None, 256)               0         \n",
            "_________________________________________________________________\n",
            "dense_14 (Dense)             (None, 256)               65792     \n",
            "_________________________________________________________________\n",
            "dropout_10 (Dropout)         (None, 256)               0         \n",
            "_________________________________________________________________\n",
            "dense_15 (Dense)             (None, 18)                4626      \n",
            "=================================================================\n",
            "Total params: 2,291,506\n",
            "Trainable params: 2,291,506\n",
            "Non-trainable params: 0\n",
            "_________________________________________________________________\n",
            "Epoch 1/32\n"
          ],
          "name": "stdout"
        },
        {
          "output_type": "stream",
          "text": [
            "/usr/local/lib/python3.6/dist-packages/keras_preprocessing/image/image_data_generator.py:720: UserWarning: This ImageDataGenerator specifies `featurewise_center`, but it hasn't been fit on any training data. Fit it first by calling `.fit(numpy_data)`.\n",
            "  warnings.warn('This ImageDataGenerator specifies '\n",
            "/usr/local/lib/python3.6/dist-packages/keras_preprocessing/image/image_data_generator.py:728: UserWarning: This ImageDataGenerator specifies `featurewise_std_normalization`, but it hasn't been fit on any training data. Fit it first by calling `.fit(numpy_data)`.\n",
            "  warnings.warn('This ImageDataGenerator specifies '\n"
          ],
          "name": "stderr"
        },
        {
          "output_type": "stream",
          "text": [
            "30/30 [==============================] - 6s 197ms/step - loss: 3.2942 - accuracy: 0.0814 - val_loss: 2.8245 - val_accuracy: 0.0985\n",
            "Epoch 2/32\n",
            "30/30 [==============================] - 5s 158ms/step - loss: 2.8751 - accuracy: 0.0861 - val_loss: 2.8092 - val_accuracy: 0.0901\n",
            "Epoch 3/32\n",
            "30/30 [==============================] - 5s 157ms/step - loss: 2.8470 - accuracy: 0.0964 - val_loss: 2.7709 - val_accuracy: 0.1745\n",
            "Epoch 4/32\n",
            "30/30 [==============================] - 5s 158ms/step - loss: 2.8180 - accuracy: 0.1008 - val_loss: 2.7278 - val_accuracy: 0.1884\n",
            "Epoch 5/32\n",
            "30/30 [==============================] - 5s 158ms/step - loss: 2.7676 - accuracy: 0.1353 - val_loss: 2.6682 - val_accuracy: 0.1566\n",
            "Epoch 6/32\n",
            "30/30 [==============================] - 5s 158ms/step - loss: 2.7560 - accuracy: 0.1369 - val_loss: 2.6238 - val_accuracy: 0.2170\n",
            "Epoch 7/32\n",
            "30/30 [==============================] - 5s 159ms/step - loss: 2.7184 - accuracy: 0.1440 - val_loss: 2.6019 - val_accuracy: 0.2197\n",
            "Epoch 8/32\n",
            "30/30 [==============================] - 5s 157ms/step - loss: 2.6752 - accuracy: 0.1638 - val_loss: 2.5544 - val_accuracy: 0.2464\n",
            "Epoch 9/32\n",
            "30/30 [==============================] - 5s 155ms/step - loss: 2.6572 - accuracy: 0.1682 - val_loss: 2.4444 - val_accuracy: 0.2712\n",
            "Epoch 10/32\n",
            "30/30 [==============================] - 5s 156ms/step - loss: 2.6239 - accuracy: 0.1754 - val_loss: 2.4260 - val_accuracy: 0.2852\n",
            "Epoch 11/32\n",
            "30/30 [==============================] - 5s 153ms/step - loss: 2.5878 - accuracy: 0.2056 - val_loss: 2.4183 - val_accuracy: 0.2365\n",
            "Epoch 12/32\n",
            "30/30 [==============================] - 5s 159ms/step - loss: 2.5395 - accuracy: 0.2109 - val_loss: 2.2736 - val_accuracy: 0.3470\n",
            "Epoch 13/32\n",
            "30/30 [==============================] - 5s 155ms/step - loss: 2.5171 - accuracy: 0.2185 - val_loss: 2.2340 - val_accuracy: 0.3524\n",
            "Epoch 14/32\n",
            "30/30 [==============================] - 5s 156ms/step - loss: 2.4757 - accuracy: 0.2201 - val_loss: 2.1503 - val_accuracy: 0.3595\n",
            "Epoch 15/32\n",
            "30/30 [==============================] - 5s 157ms/step - loss: 2.4171 - accuracy: 0.2488 - val_loss: 2.1292 - val_accuracy: 0.3450\n",
            "Epoch 16/32\n",
            "30/30 [==============================] - 5s 166ms/step - loss: 2.3902 - accuracy: 0.2549 - val_loss: 2.2071 - val_accuracy: 0.3168\n",
            "Epoch 17/32\n",
            "30/30 [==============================] - 4s 148ms/step - loss: 2.3606 - accuracy: 0.2591 - val_loss: 1.9928 - val_accuracy: 0.3859\n",
            "Epoch 18/32\n",
            "30/30 [==============================] - 5s 154ms/step - loss: 2.3184 - accuracy: 0.2704 - val_loss: 1.9673 - val_accuracy: 0.4171\n",
            "Epoch 19/32\n",
            "30/30 [==============================] - 5s 155ms/step - loss: 2.2832 - accuracy: 0.2870 - val_loss: 1.9501 - val_accuracy: 0.3952\n",
            "Epoch 20/32\n",
            "30/30 [==============================] - 5s 155ms/step - loss: 2.2276 - accuracy: 0.3099 - val_loss: 1.8883 - val_accuracy: 0.4629\n",
            "Epoch 21/32\n",
            "30/30 [==============================] - 5s 154ms/step - loss: 2.2276 - accuracy: 0.3138 - val_loss: 1.8742 - val_accuracy: 0.4706\n",
            "Epoch 22/32\n",
            "30/30 [==============================] - 5s 154ms/step - loss: 2.1628 - accuracy: 0.3265 - val_loss: 1.7155 - val_accuracy: 0.4812\n",
            "Epoch 23/32\n",
            "30/30 [==============================] - 5s 152ms/step - loss: 2.1712 - accuracy: 0.3239 - val_loss: 1.7441 - val_accuracy: 0.4881\n",
            "Epoch 24/32\n",
            "30/30 [==============================] - 5s 155ms/step - loss: 2.0948 - accuracy: 0.3504 - val_loss: 1.6936 - val_accuracy: 0.5070\n",
            "Epoch 25/32\n",
            "30/30 [==============================] - 5s 153ms/step - loss: 2.0510 - accuracy: 0.3662 - val_loss: 1.6118 - val_accuracy: 0.5140\n",
            "Epoch 26/32\n",
            "30/30 [==============================] - 5s 154ms/step - loss: 2.0241 - accuracy: 0.3686 - val_loss: 1.5543 - val_accuracy: 0.5426\n",
            "Epoch 27/32\n",
            "30/30 [==============================] - 5s 155ms/step - loss: 1.9911 - accuracy: 0.3781 - val_loss: 1.5550 - val_accuracy: 0.5399\n",
            "Epoch 28/32\n",
            "30/30 [==============================] - 5s 154ms/step - loss: 1.9754 - accuracy: 0.3947 - val_loss: 1.5203 - val_accuracy: 0.5478\n",
            "Epoch 29/32\n",
            "30/30 [==============================] - 5s 152ms/step - loss: 1.9213 - accuracy: 0.4113 - val_loss: 1.4872 - val_accuracy: 0.5681\n",
            "Epoch 30/32\n",
            "30/30 [==============================] - 5s 152ms/step - loss: 1.8646 - accuracy: 0.4276 - val_loss: 1.4794 - val_accuracy: 0.5502\n",
            "Epoch 31/32\n",
            "30/30 [==============================] - 5s 152ms/step - loss: 1.8334 - accuracy: 0.4318 - val_loss: 1.4205 - val_accuracy: 0.5787\n",
            "Epoch 32/32\n",
            "30/30 [==============================] - 5s 158ms/step - loss: 1.8031 - accuracy: 0.4365 - val_loss: 1.3932 - val_accuracy: 0.5796\n"
          ],
          "name": "stdout"
        }
      ]
    },
    {
      "cell_type": "code",
      "metadata": {
        "colab_type": "code",
        "id": "Tqu1VXuw_T9t",
        "outputId": "5e907f4c-a498-44e0-a8a0-79a35649c4be",
        "colab": {
          "base_uri": "https://localhost:8080/",
          "height": 51
        }
      },
      "source": [
        "mycnn2.evaluate(X_t, y_t)\n",
        "mycnn2.getAccuracy()"
      ],
      "execution_count": 0,
      "outputs": [
        {
          "output_type": "stream",
          "text": [
            "890/890 [==============================] - 0s 160us/step\n"
          ],
          "name": "stdout"
        },
        {
          "output_type": "execute_result",
          "data": {
            "text/plain": [
              "0.5707865357398987"
            ]
          },
          "metadata": {
            "tags": []
          },
          "execution_count": 42
        }
      ]
    },
    {
      "cell_type": "code",
      "metadata": {
        "colab_type": "code",
        "id": "g_n4fq5xDAb_",
        "outputId": "e69d16f6-ebea-4766-d590-e7201a4d184b",
        "colab": {
          "base_uri": "https://localhost:8080/",
          "height": 436
        }
      },
      "source": [
        "accurracyLossComparative(mycnn2.getHistory(), 'Titulo molon' )"
      ],
      "execution_count": 0,
      "outputs": [
        {
          "output_type": "display_data",
          "data": {
            "image/png": "[encoded data removed]",
            "text/plain": [
              "<Figure size 864x432 with 2 Axes>"
            ]
          },
          "metadata": {
            "tags": [],
            "needs_background": "light"
          }
        }
      ]
    },
    {
      "cell_type": "code",
      "metadata": {
        "colab_type": "code",
        "id": "u4tFp39wDL3-",
        "colab": {}
      },
      "source": [
        "import time\n",
        "# https://blog.keras.io/building-powerful-image-classification-models-using-very-little-data.html\n",
        "from keras.preprocessing.image import ImageDataGenerator\n",
        "from keras.models import Sequential\n",
        "from keras.layers import Dense, Dropout, Flatten\n",
        "from keras.layers import Conv2D, MaxPooling2D\n",
        "\n",
        "# clase que implementa la red neuronal\n",
        "#  * x_data, datos de entrenamiento\n",
        "#  * y_data, etiqueta de los datos de entrenamiento\n",
        "#  * input_shape, entrada de la red neuronal\n",
        "#  * epochs, epochs\n",
        "#  * batch_size, tamaño del batch\n",
        "#  * metrics, metricas a utilizar\n",
        "#  * lr, learning rate\n",
        "#  * val_percent, indica el tanto por ciento del conjunto de datos que va a \n",
        "#    utilizar para validar el modelo durante el entrenamiento, por defecto\n",
        "#    es un 20 % (0.2)\n",
        "#  * verbose, activar o desactivar modo verbose\n",
        "#\n",
        "# uso:\n",
        "#  * instanciar: mycnn = cnn(x_data, y_data, input_shape, epochs=12, \n",
        "#                            batch_size=128, metrics=['accuracy'], \n",
        "#                            val_percent=0.2, verbose=True))\n",
        "#  * crear la red neuronal: mycnn.create()\n",
        "#  * entrenar: myccn.train()\n",
        "#  * evaluar: mycnn.evaluate(test_data, test_label)\n",
        "class cnn3:\n",
        "    def __init__(self, x_data, y_data, input_shape, epochs=12, batch_size=128, metrics=['accuracy'], \n",
        "                 val_percent=0.2, lr= 0.0001, verbose=True):\n",
        "              \n",
        "        self.input_shape = input_shape\n",
        "        self.epochs = epochs\n",
        "        self.batch_size = batch_size\n",
        "        self.metrics = metrics\n",
        "        self.lr = lr\n",
        "        self.x_data = x_data\n",
        "        self.y_data = y_data\n",
        "        self.val_data_len = int(val_percent * len(self.x_data))\n",
        "        # conjunto de entrenamiento\n",
        "        self.train_data = x_data[-self.val_data_len:]\n",
        "        self.train_labels = y_data[-self.val_data_len:]\n",
        "        # conjunto de validación\n",
        "        self.val_data = x_data[:-self.val_data_len]\n",
        "        self.val_labels = y_data[:-self.val_data_len]\n",
        "        self.time = ''\n",
        "        self.history = ''\n",
        "        self.accuracy = ''\n",
        "        \n",
        "        self.verbose = verbose\n",
        "        \n",
        "    # definimos la red neuronal\n",
        "    def create(self):\n",
        "        self.cnn = Sequential()\n",
        "       \n",
        "        self.cnn.add(Conv2D(32, 3, 3, border_mode='same', input_shape=self.input_shape, activation='relu'))\n",
        "        self.cnn.add(Conv2D(32, 3, 3, border_mode='same', activation='relu'))\n",
        "        self.cnn.add(MaxPooling2D(pool_size=(2, 2)))\n",
        "\n",
        "        self.cnn.add(Conv2D(64, 3, 3, border_mode='same', activation='relu'))\n",
        "        self.cnn.add(Conv2D(64, 3, 3, border_mode='same', activation='relu'))\n",
        "        self.cnn.add(MaxPooling2D(pool_size=(2, 2)))\n",
        "\n",
        "        self.cnn.add(Conv2D(128, 3, 3, border_mode='same', activation='relu'))\n",
        "        self.cnn.add(Conv2D(128, 3, 3, border_mode='same', activation='relu'))\n",
        "        self.cnn.add(MaxPooling2D(pool_size=(2, 2)))\n",
        "\n",
        "        self.cnn.add(Conv2D(256, 3, 3, border_mode='same', activation='relu'))\n",
        "        self.cnn.add(Conv2D(256, 3, 3, border_mode='same', activation='relu'))\n",
        "        self.cnn.add(MaxPooling2D(pool_size=(2, 2)))\n",
        "\n",
        "        self.cnn.add(Flatten())\n",
        "        self.cnn.add(Dense(256, activation='relu'))\n",
        "        self.cnn.add(Dropout(0.5))\n",
        "\n",
        "        self.cnn.add(Dense(256, activation='relu'))\n",
        "        self.cnn.add(Dropout(0.5))\n",
        "\n",
        "        self.cnn.add(Dense(num_classes, activation='softmax'))\n",
        "\n",
        "        self.cnn.compile(loss=keras.losses.categorical_crossentropy,\n",
        "                         optimizer=keras.optimizers.RMSprop(lr=self.lr),\n",
        "                         metrics=self.metrics)\n",
        "        \n",
        "        return\n",
        "    \n",
        "    # información sobre la red neuronal\n",
        "    def getSummary(self):\n",
        "        return self.cnn.summary()\n",
        "       \n",
        "    # entrenar el modelo\n",
        "    def train(self):\n",
        "        # data augmentation\n",
        "        self.train_augmentation = ImageDataGenerator(rescale=1./255,\n",
        "                                                     shear_range=0.1,\n",
        "                                                     zoom_range=0.1,\n",
        "                                                     horizontal_flip=True)\n",
        "        \n",
        "        self.val_augmentation = ImageDataGenerator(rescale=1./255)       \n",
        "        \n",
        "        # cuando iniciamos el entrenamiento\n",
        "        self.start = time.time()\n",
        "\n",
        "        self.history = self.cnn.fit(self.train_augmentation.flow(self.train_data, self.train_labels, batch_size=self.batch_size,),\n",
        "                                    epochs=self.epochs,\n",
        "                                    verbose=self.verbose,\n",
        "                                    validation_data=(self.val_augmentation.flow(self.val_data, self.val_labels, batch_size=self.batch_size)))\n",
        "\n",
        "        # cuando terminamos el entrenamiento\n",
        "        self.end = time.time()\n",
        "        # tiempo que ha tardado en entrenar\n",
        "        self.time = self.end - self.start\n",
        "        \n",
        "    # recuperar el tiempo que se ha tardado en entrenar\n",
        "    def getTime(self):\n",
        "        return self.time\n",
        "    \n",
        "    # evaluar el modelo\n",
        "    def evaluate(self, test_data, test_label):\n",
        "        self.test_augmentation = ImageDataGenerator(rescale=1./255)  \n",
        "        self.accuracy = self.cnn.evaluate(self.test_augmentation.flow(test_data, test_label), verbose=self.verbose)\n",
        "          \n",
        "    # loss (sobre el conjunto de test)\n",
        "    def getLoss(self):\n",
        "        return self.accuracy[0]\n",
        "    \n",
        "    # accuracy (sobre el conjunto de test)\n",
        "    def getAccuracy(self):\n",
        "        return self.accuracy[1]  \n",
        "   \n",
        "    # history\n",
        "    def getHistory(self):\n",
        "        return self.history"
      ],
      "execution_count": 0,
      "outputs": []
    },
    {
      "cell_type": "code",
      "metadata": {
        "colab_type": "code",
        "id": "CBuGQERPD--e",
        "outputId": "84859ce9-a7d2-4529-dd50-a66bd9610159",
        "colab": {
          "base_uri": "https://localhost:8080/",
          "height": 1000
        }
      },
      "source": [
        "mycnn3 = cnn3(X, y, input_shape_data, epochs=64, batch_size=128, metrics=['accuracy'], val_percent=0.20, lr=0.0001, verbose=True)\n",
        "\n",
        "mycnn3.create()\n",
        "mycnn3.getSummary()\n",
        "mycnn3.train()"
      ],
      "execution_count": 0,
      "outputs": [
        {
          "output_type": "stream",
          "text": [
            "/usr/local/lib/python3.6/dist-packages/ipykernel_launcher.py:56: UserWarning: Update your `Conv2D` call to the Keras 2 API: `Conv2D(32, (3, 3), input_shape=(64, 64, 3..., activation=\"relu\", padding=\"same\")`\n",
            "/usr/local/lib/python3.6/dist-packages/ipykernel_launcher.py:57: UserWarning: Update your `Conv2D` call to the Keras 2 API: `Conv2D(32, (3, 3), activation=\"relu\", padding=\"same\")`\n",
            "/usr/local/lib/python3.6/dist-packages/ipykernel_launcher.py:60: UserWarning: Update your `Conv2D` call to the Keras 2 API: `Conv2D(64, (3, 3), activation=\"relu\", padding=\"same\")`\n",
            "/usr/local/lib/python3.6/dist-packages/ipykernel_launcher.py:61: UserWarning: Update your `Conv2D` call to the Keras 2 API: `Conv2D(64, (3, 3), activation=\"relu\", padding=\"same\")`\n",
            "/usr/local/lib/python3.6/dist-packages/ipykernel_launcher.py:64: UserWarning: Update your `Conv2D` call to the Keras 2 API: `Conv2D(128, (3, 3), activation=\"relu\", padding=\"same\")`\n",
            "/usr/local/lib/python3.6/dist-packages/ipykernel_launcher.py:65: UserWarning: Update your `Conv2D` call to the Keras 2 API: `Conv2D(128, (3, 3), activation=\"relu\", padding=\"same\")`\n",
            "/usr/local/lib/python3.6/dist-packages/ipykernel_launcher.py:68: UserWarning: Update your `Conv2D` call to the Keras 2 API: `Conv2D(256, (3, 3), activation=\"relu\", padding=\"same\")`\n",
            "/usr/local/lib/python3.6/dist-packages/ipykernel_launcher.py:69: UserWarning: Update your `Conv2D` call to the Keras 2 API: `Conv2D(256, (3, 3), activation=\"relu\", padding=\"same\")`\n"
          ],
          "name": "stderr"
        },
        {
          "output_type": "stream",
          "text": [
            "Model: \"sequential_11\"\n",
            "_________________________________________________________________\n",
            "Layer (type)                 Output Shape              Param #   \n",
            "=================================================================\n",
            "conv2d_65 (Conv2D)           (None, 64, 64, 32)        896       \n",
            "_________________________________________________________________\n",
            "conv2d_66 (Conv2D)           (None, 64, 64, 32)        9248      \n",
            "_________________________________________________________________\n",
            "max_pooling2d_33 (MaxPooling (None, 32, 32, 32)        0         \n",
            "_________________________________________________________________\n",
            "conv2d_67 (Conv2D)           (None, 32, 32, 64)        18496     \n",
            "_________________________________________________________________\n",
            "conv2d_68 (Conv2D)           (None, 32, 32, 64)        36928     \n",
            "_________________________________________________________________\n",
            "max_pooling2d_34 (MaxPooling (None, 16, 16, 64)        0         \n",
            "_________________________________________________________________\n",
            "conv2d_69 (Conv2D)           (None, 16, 16, 128)       73856     \n",
            "_________________________________________________________________\n",
            "conv2d_70 (Conv2D)           (None, 16, 16, 128)       147584    \n",
            "_________________________________________________________________\n",
            "max_pooling2d_35 (MaxPooling (None, 8, 8, 128)         0         \n",
            "_________________________________________________________________\n",
            "conv2d_71 (Conv2D)           (None, 8, 8, 256)         295168    \n",
            "_________________________________________________________________\n",
            "conv2d_72 (Conv2D)           (None, 8, 8, 256)         590080    \n",
            "_________________________________________________________________\n",
            "max_pooling2d_36 (MaxPooling (None, 4, 4, 256)         0         \n",
            "_________________________________________________________________\n",
            "flatten_9 (Flatten)          (None, 4096)              0         \n",
            "_________________________________________________________________\n",
            "dense_25 (Dense)             (None, 256)               1048832   \n",
            "_________________________________________________________________\n",
            "dropout_17 (Dropout)         (None, 256)               0         \n",
            "_________________________________________________________________\n",
            "dense_26 (Dense)             (None, 256)               65792     \n",
            "_________________________________________________________________\n",
            "dropout_18 (Dropout)         (None, 256)               0         \n",
            "_________________________________________________________________\n",
            "dense_27 (Dense)             (None, 18)                4626      \n",
            "=================================================================\n",
            "Total params: 2,291,506\n",
            "Trainable params: 2,291,506\n",
            "Non-trainable params: 0\n",
            "_________________________________________________________________\n",
            "Epoch 1/64\n",
            "30/30 [==============================] - 5s 178ms/step - loss: 2.8537 - accuracy: 0.0995 - val_loss: 2.7987 - val_accuracy: 0.1183\n",
            "Epoch 2/64\n",
            "30/30 [==============================] - 5s 154ms/step - loss: 2.8264 - accuracy: 0.1024 - val_loss: 2.7650 - val_accuracy: 0.1183\n",
            "Epoch 3/64\n",
            "30/30 [==============================] - 5s 155ms/step - loss: 2.7748 - accuracy: 0.1187 - val_loss: 2.8136 - val_accuracy: 0.1516\n",
            "Epoch 4/64\n",
            "30/30 [==============================] - 5s 155ms/step - loss: 2.6960 - accuracy: 0.1472 - val_loss: 2.6013 - val_accuracy: 0.2063\n",
            "Epoch 5/64\n",
            "30/30 [==============================] - 5s 157ms/step - loss: 2.6362 - accuracy: 0.1785 - val_loss: 2.4932 - val_accuracy: 0.2446\n",
            "Epoch 6/64\n",
            "30/30 [==============================] - 5s 157ms/step - loss: 2.5717 - accuracy: 0.1969 - val_loss: 2.4423 - val_accuracy: 0.2560\n",
            "Epoch 7/64\n",
            "30/30 [==============================] - 5s 154ms/step - loss: 2.5241 - accuracy: 0.2230 - val_loss: 2.3995 - val_accuracy: 0.2705\n",
            "Epoch 8/64\n",
            "30/30 [==============================] - 5s 156ms/step - loss: 2.4911 - accuracy: 0.2301 - val_loss: 2.3152 - val_accuracy: 0.2787\n",
            "Epoch 9/64\n",
            "30/30 [==============================] - 5s 156ms/step - loss: 2.4147 - accuracy: 0.2475 - val_loss: 2.2765 - val_accuracy: 0.2958\n",
            "Epoch 10/64\n",
            "30/30 [==============================] - 5s 155ms/step - loss: 2.3678 - accuracy: 0.2696 - val_loss: 2.2695 - val_accuracy: 0.3134\n",
            "Epoch 11/64\n",
            "30/30 [==============================] - 5s 155ms/step - loss: 2.3282 - accuracy: 0.2654 - val_loss: 2.1008 - val_accuracy: 0.3259\n",
            "Epoch 12/64\n",
            "30/30 [==============================] - 5s 154ms/step - loss: 2.2716 - accuracy: 0.2944 - val_loss: 1.9671 - val_accuracy: 0.3393\n",
            "Epoch 13/64\n",
            "30/30 [==============================] - 5s 154ms/step - loss: 2.2341 - accuracy: 0.3146 - val_loss: 2.1124 - val_accuracy: 0.3495\n",
            "Epoch 14/64\n",
            "30/30 [==============================] - 5s 156ms/step - loss: 2.1900 - accuracy: 0.3268 - val_loss: 2.0725 - val_accuracy: 0.3533\n",
            "Epoch 15/64\n",
            "30/30 [==============================] - 5s 155ms/step - loss: 2.1673 - accuracy: 0.3223 - val_loss: 1.9965 - val_accuracy: 0.3688\n",
            "Epoch 16/64\n",
            "30/30 [==============================] - 5s 154ms/step - loss: 2.1191 - accuracy: 0.3415 - val_loss: 2.1503 - val_accuracy: 0.3597\n",
            "Epoch 17/64\n",
            "30/30 [==============================] - 5s 155ms/step - loss: 2.0950 - accuracy: 0.3502 - val_loss: 2.2302 - val_accuracy: 0.4013\n",
            "Epoch 18/64\n",
            "30/30 [==============================] - 5s 155ms/step - loss: 2.0427 - accuracy: 0.3589 - val_loss: 1.9170 - val_accuracy: 0.4338\n",
            "Epoch 19/64\n",
            "30/30 [==============================] - 5s 155ms/step - loss: 2.0107 - accuracy: 0.3760 - val_loss: 1.7340 - val_accuracy: 0.4260\n",
            "Epoch 20/64\n",
            "30/30 [==============================] - 5s 155ms/step - loss: 1.9687 - accuracy: 0.3899 - val_loss: 1.8203 - val_accuracy: 0.4363\n",
            "Epoch 21/64\n",
            "30/30 [==============================] - 5s 156ms/step - loss: 1.9353 - accuracy: 0.4063 - val_loss: 1.8481 - val_accuracy: 0.4602\n",
            "Epoch 22/64\n",
            "30/30 [==============================] - 5s 158ms/step - loss: 1.8929 - accuracy: 0.4068 - val_loss: 1.8269 - val_accuracy: 0.4942\n",
            "Epoch 23/64\n",
            "30/30 [==============================] - 5s 157ms/step - loss: 1.8630 - accuracy: 0.4273 - val_loss: 1.7475 - val_accuracy: 0.5000\n",
            "Epoch 24/64\n",
            "30/30 [==============================] - 5s 156ms/step - loss: 1.8161 - accuracy: 0.4392 - val_loss: 1.6111 - val_accuracy: 0.4860\n",
            "Epoch 25/64\n",
            "30/30 [==============================] - 5s 153ms/step - loss: 1.7756 - accuracy: 0.4539 - val_loss: 1.6951 - val_accuracy: 0.4981\n",
            "Epoch 26/64\n",
            "30/30 [==============================] - 5s 155ms/step - loss: 1.7576 - accuracy: 0.4552 - val_loss: 1.6965 - val_accuracy: 0.5270\n",
            "Epoch 27/64\n",
            "30/30 [==============================] - 5s 153ms/step - loss: 1.6927 - accuracy: 0.4755 - val_loss: 1.6804 - val_accuracy: 0.5255\n",
            "Epoch 28/64\n",
            "30/30 [==============================] - 5s 154ms/step - loss: 1.6984 - accuracy: 0.4681 - val_loss: 1.6581 - val_accuracy: 0.5392\n",
            "Epoch 29/64\n",
            "30/30 [==============================] - 5s 155ms/step - loss: 1.6497 - accuracy: 0.4850 - val_loss: 1.4223 - val_accuracy: 0.5238\n",
            "Epoch 30/64\n",
            "30/30 [==============================] - 5s 155ms/step - loss: 1.6450 - accuracy: 0.4831 - val_loss: 1.6099 - val_accuracy: 0.5484\n",
            "Epoch 31/64\n",
            "30/30 [==============================] - 5s 154ms/step - loss: 1.5899 - accuracy: 0.5103 - val_loss: 1.5664 - val_accuracy: 0.5387\n",
            "Epoch 32/64\n",
            "30/30 [==============================] - 5s 155ms/step - loss: 1.5762 - accuracy: 0.5121 - val_loss: 1.4068 - val_accuracy: 0.5238\n",
            "Epoch 33/64\n",
            "30/30 [==============================] - 5s 153ms/step - loss: 1.5455 - accuracy: 0.5284 - val_loss: 1.6766 - val_accuracy: 0.5827\n",
            "Epoch 34/64\n",
            "30/30 [==============================] - 5s 155ms/step - loss: 1.5050 - accuracy: 0.5419 - val_loss: 1.4876 - val_accuracy: 0.5743\n",
            "Epoch 35/64\n",
            "30/30 [==============================] - 5s 155ms/step - loss: 1.4958 - accuracy: 0.5377 - val_loss: 1.4492 - val_accuracy: 0.5744\n",
            "Epoch 36/64\n",
            "30/30 [==============================] - 5s 156ms/step - loss: 1.4585 - accuracy: 0.5508 - val_loss: 1.3359 - val_accuracy: 0.5911\n",
            "Epoch 37/64\n",
            "30/30 [==============================] - 5s 154ms/step - loss: 1.4187 - accuracy: 0.5590 - val_loss: 1.7618 - val_accuracy: 0.5793\n",
            "Epoch 38/64\n",
            "30/30 [==============================] - 5s 154ms/step - loss: 1.4006 - accuracy: 0.5742 - val_loss: 1.2673 - val_accuracy: 0.5946\n",
            "Epoch 39/64\n",
            "30/30 [==============================] - 5s 157ms/step - loss: 1.3762 - accuracy: 0.5756 - val_loss: 1.3235 - val_accuracy: 0.5851\n",
            "Epoch 40/64\n",
            "30/30 [==============================] - 5s 154ms/step - loss: 1.3530 - accuracy: 0.5885 - val_loss: 1.3017 - val_accuracy: 0.6011\n",
            "Epoch 41/64\n",
            "30/30 [==============================] - 5s 155ms/step - loss: 1.3194 - accuracy: 0.5937 - val_loss: 1.2182 - val_accuracy: 0.6184\n",
            "Epoch 42/64\n",
            "30/30 [==============================] - 5s 153ms/step - loss: 1.2921 - accuracy: 0.6077 - val_loss: 1.6127 - val_accuracy: 0.5848\n",
            "Epoch 43/64\n",
            "30/30 [==============================] - 5s 155ms/step - loss: 1.2954 - accuracy: 0.5987 - val_loss: 1.1212 - val_accuracy: 0.6156\n",
            "Epoch 44/64\n",
            "30/30 [==============================] - 5s 154ms/step - loss: 1.2394 - accuracy: 0.6203 - val_loss: 1.3683 - val_accuracy: 0.6112\n",
            "Epoch 45/64\n",
            "30/30 [==============================] - 5s 154ms/step - loss: 1.2526 - accuracy: 0.6151 - val_loss: 1.0383 - val_accuracy: 0.6283\n",
            "Epoch 46/64\n",
            "30/30 [==============================] - 5s 154ms/step - loss: 1.1939 - accuracy: 0.6322 - val_loss: 1.5313 - val_accuracy: 0.6507\n",
            "Epoch 47/64\n",
            "30/30 [==============================] - 5s 153ms/step - loss: 1.1790 - accuracy: 0.6401 - val_loss: 1.3709 - val_accuracy: 0.6545\n",
            "Epoch 48/64\n",
            "30/30 [==============================] - 5s 154ms/step - loss: 1.1760 - accuracy: 0.6343 - val_loss: 0.9032 - val_accuracy: 0.6542\n",
            "Epoch 49/64\n",
            "30/30 [==============================] - 5s 154ms/step - loss: 1.1472 - accuracy: 0.6390 - val_loss: 1.1414 - val_accuracy: 0.6389\n",
            "Epoch 50/64\n",
            "30/30 [==============================] - 5s 154ms/step - loss: 1.1174 - accuracy: 0.6617 - val_loss: 1.2474 - val_accuracy: 0.6331\n",
            "Epoch 51/64\n",
            "30/30 [==============================] - 5s 152ms/step - loss: 1.0827 - accuracy: 0.6643 - val_loss: 1.1574 - val_accuracy: 0.6609\n",
            "Epoch 52/64\n",
            "30/30 [==============================] - 5s 155ms/step - loss: 1.1033 - accuracy: 0.6630 - val_loss: 1.1632 - val_accuracy: 0.6533\n",
            "Epoch 53/64\n",
            "30/30 [==============================] - 5s 154ms/step - loss: 1.0386 - accuracy: 0.6767 - val_loss: 0.8951 - val_accuracy: 0.6636\n",
            "Epoch 54/64\n",
            "30/30 [==============================] - 5s 154ms/step - loss: 1.0553 - accuracy: 0.6767 - val_loss: 1.1738 - val_accuracy: 0.6584\n",
            "Epoch 55/64\n",
            "30/30 [==============================] - 5s 154ms/step - loss: 0.9841 - accuracy: 0.6959 - val_loss: 1.1500 - val_accuracy: 0.6695\n",
            "Epoch 56/64\n",
            "30/30 [==============================] - 5s 156ms/step - loss: 0.9759 - accuracy: 0.6909 - val_loss: 1.2078 - val_accuracy: 0.6894\n",
            "Epoch 57/64\n",
            "30/30 [==============================] - 5s 157ms/step - loss: 0.9839 - accuracy: 0.6898 - val_loss: 0.8420 - val_accuracy: 0.6770\n",
            "Epoch 58/64\n",
            "30/30 [==============================] - 5s 156ms/step - loss: 0.9694 - accuracy: 0.6980 - val_loss: 1.1972 - val_accuracy: 0.6774\n",
            "Epoch 59/64\n",
            "30/30 [==============================] - 5s 155ms/step - loss: 0.9481 - accuracy: 0.7104 - val_loss: 1.0826 - val_accuracy: 0.6834\n",
            "Epoch 60/64\n",
            "30/30 [==============================] - 5s 152ms/step - loss: 0.8984 - accuracy: 0.7201 - val_loss: 1.0037 - val_accuracy: 0.6733\n",
            "Epoch 61/64\n",
            "30/30 [==============================] - 5s 155ms/step - loss: 0.9000 - accuracy: 0.7164 - val_loss: 1.4143 - val_accuracy: 0.6828\n",
            "Epoch 62/64\n",
            "30/30 [==============================] - 5s 154ms/step - loss: 0.8852 - accuracy: 0.7249 - val_loss: 0.8399 - val_accuracy: 0.6923\n",
            "Epoch 63/64\n",
            "30/30 [==============================] - 5s 153ms/step - loss: 0.8552 - accuracy: 0.7322 - val_loss: 1.1385 - val_accuracy: 0.7007\n",
            "Epoch 64/64\n",
            "30/30 [==============================] - 5s 153ms/step - loss: 0.8192 - accuracy: 0.7478 - val_loss: 0.7340 - val_accuracy: 0.7092\n"
          ],
          "name": "stdout"
        }
      ]
    },
    {
      "cell_type": "code",
      "metadata": {
        "colab_type": "code",
        "id": "LsZ4Vb2zEL-x",
        "outputId": "61753726-fa65-4319-e65b-302760c8043c",
        "colab": {
          "base_uri": "https://localhost:8080/",
          "height": 51
        }
      },
      "source": [
        "mycnn3.evaluate(X_t, y_t)\n",
        "mycnn3.getAccuracy()"
      ],
      "execution_count": 0,
      "outputs": [
        {
          "output_type": "stream",
          "text": [
            "28/28 [==============================] - 0s 5ms/step\n"
          ],
          "name": "stdout"
        },
        {
          "output_type": "execute_result",
          "data": {
            "text/plain": [
              "0.7089887857437134"
            ]
          },
          "metadata": {
            "tags": []
          },
          "execution_count": 59
        }
      ]
    },
    {
      "cell_type": "code",
      "metadata": {
        "colab_type": "code",
        "id": "HkMB9e6gGjSQ",
        "outputId": "3401c6f4-4e90-4ea2-cac7-7da0abd30f7a",
        "colab": {
          "base_uri": "https://localhost:8080/",
          "height": 436
        }
      },
      "source": [
        "accurracyLossComparative(mycnn3.getHistory(), 'Titulo molon' )"
      ],
      "execution_count": 0,
      "outputs": [
        {
          "output_type": "display_data",
          "data": {
            "image/png": "[encoded data removed]",
            "text/plain": [
              "<Figure size 864x432 with 2 Axes>"
            ]
          },
          "metadata": {
            "tags": [],
            "needs_background": "light"
          }
        }
      ]
    },
    {
      "cell_type": "code",
      "metadata": {
        "colab_type": "code",
        "id": "fJFO4_ZAKc5C",
        "outputId": "df56c6c9-04cb-4917-ed6a-5c00b778ef58",
        "colab": {
          "base_uri": "https://localhost:8080/",
          "height": 1000
        }
      },
      "source": [
        "mycnn4 = cnn3(X, y, input_shape_data, epochs=64, batch_size=8, metrics=['accuracy'], val_percent=0.20, lr=0.0001, verbose=True)\n",
        "\n",
        "mycnn4.create()\n",
        "mycnn4.getSummary()\n",
        "mycnn4.train()\n"
      ],
      "execution_count": 0,
      "outputs": [
        {
          "output_type": "stream",
          "text": [
            "/usr/local/lib/python3.6/dist-packages/ipykernel_launcher.py:56: UserWarning: Update your `Conv2D` call to the Keras 2 API: `Conv2D(32, (3, 3), input_shape=(64, 64, 3..., activation=\"relu\", padding=\"same\")`\n",
            "/usr/local/lib/python3.6/dist-packages/ipykernel_launcher.py:57: UserWarning: Update your `Conv2D` call to the Keras 2 API: `Conv2D(32, (3, 3), activation=\"relu\", padding=\"same\")`\n",
            "/usr/local/lib/python3.6/dist-packages/ipykernel_launcher.py:60: UserWarning: Update your `Conv2D` call to the Keras 2 API: `Conv2D(64, (3, 3), activation=\"relu\", padding=\"same\")`\n",
            "/usr/local/lib/python3.6/dist-packages/ipykernel_launcher.py:61: UserWarning: Update your `Conv2D` call to the Keras 2 API: `Conv2D(64, (3, 3), activation=\"relu\", padding=\"same\")`\n",
            "/usr/local/lib/python3.6/dist-packages/ipykernel_launcher.py:64: UserWarning: Update your `Conv2D` call to the Keras 2 API: `Conv2D(128, (3, 3), activation=\"relu\", padding=\"same\")`\n",
            "/usr/local/lib/python3.6/dist-packages/ipykernel_launcher.py:65: UserWarning: Update your `Conv2D` call to the Keras 2 API: `Conv2D(128, (3, 3), activation=\"relu\", padding=\"same\")`\n",
            "/usr/local/lib/python3.6/dist-packages/ipykernel_launcher.py:68: UserWarning: Update your `Conv2D` call to the Keras 2 API: `Conv2D(256, (3, 3), activation=\"relu\", padding=\"same\")`\n",
            "/usr/local/lib/python3.6/dist-packages/ipykernel_launcher.py:69: UserWarning: Update your `Conv2D` call to the Keras 2 API: `Conv2D(256, (3, 3), activation=\"relu\", padding=\"same\")`\n"
          ],
          "name": "stderr"
        },
        {
          "output_type": "stream",
          "text": [
            "Model: \"sequential_12\"\n",
            "_________________________________________________________________\n",
            "Layer (type)                 Output Shape              Param #   \n",
            "=================================================================\n",
            "conv2d_73 (Conv2D)           (None, 64, 64, 32)        896       \n",
            "_________________________________________________________________\n",
            "conv2d_74 (Conv2D)           (None, 64, 64, 32)        9248      \n",
            "_________________________________________________________________\n",
            "max_pooling2d_37 (MaxPooling (None, 32, 32, 32)        0         \n",
            "_________________________________________________________________\n",
            "conv2d_75 (Conv2D)           (None, 32, 32, 64)        18496     \n",
            "_________________________________________________________________\n",
            "conv2d_76 (Conv2D)           (None, 32, 32, 64)        36928     \n",
            "_________________________________________________________________\n",
            "max_pooling2d_38 (MaxPooling (None, 16, 16, 64)        0         \n",
            "_________________________________________________________________\n",
            "conv2d_77 (Conv2D)           (None, 16, 16, 128)       73856     \n",
            "_________________________________________________________________\n",
            "conv2d_78 (Conv2D)           (None, 16, 16, 128)       147584    \n",
            "_________________________________________________________________\n",
            "max_pooling2d_39 (MaxPooling (None, 8, 8, 128)         0         \n",
            "_________________________________________________________________\n",
            "conv2d_79 (Conv2D)           (None, 8, 8, 256)         295168    \n",
            "_________________________________________________________________\n",
            "conv2d_80 (Conv2D)           (None, 8, 8, 256)         590080    \n",
            "_________________________________________________________________\n",
            "max_pooling2d_40 (MaxPooling (None, 4, 4, 256)         0         \n",
            "_________________________________________________________________\n",
            "flatten_10 (Flatten)         (None, 4096)              0         \n",
            "_________________________________________________________________\n",
            "dense_28 (Dense)             (None, 256)               1048832   \n",
            "_________________________________________________________________\n",
            "dropout_19 (Dropout)         (None, 256)               0         \n",
            "_________________________________________________________________\n",
            "dense_29 (Dense)             (None, 256)               65792     \n",
            "_________________________________________________________________\n",
            "dropout_20 (Dropout)         (None, 256)               0         \n",
            "_________________________________________________________________\n",
            "dense_30 (Dense)             (None, 18)                4626      \n",
            "=================================================================\n",
            "Total params: 2,291,506\n",
            "Trainable params: 2,291,506\n",
            "Non-trainable params: 0\n",
            "_________________________________________________________________\n",
            "Epoch 1/64\n",
            "475/475 [==============================] - 13s 27ms/step - loss: 2.8435 - accuracy: 0.1064 - val_loss: 2.7434 - val_accuracy: 0.1183\n",
            "Epoch 2/64\n",
            "475/475 [==============================] - 12s 26ms/step - loss: 2.8144 - accuracy: 0.1132 - val_loss: 3.0533 - val_accuracy: 0.1183\n",
            "Epoch 3/64\n",
            "475/475 [==============================] - 12s 26ms/step - loss: 2.6925 - accuracy: 0.1517 - val_loss: 2.8221 - val_accuracy: 0.2190\n",
            "Epoch 4/64\n",
            "475/475 [==============================] - 12s 26ms/step - loss: 2.5161 - accuracy: 0.2185 - val_loss: 3.6095 - val_accuracy: 0.2944\n",
            "Epoch 5/64\n",
            "475/475 [==============================] - 12s 26ms/step - loss: 2.3498 - accuracy: 0.2636 - val_loss: 1.9107 - val_accuracy: 0.3178\n",
            "Epoch 6/64\n",
            "475/475 [==============================] - 12s 26ms/step - loss: 2.1854 - accuracy: 0.3136 - val_loss: 1.5993 - val_accuracy: 0.3765\n",
            "Epoch 7/64\n",
            "475/475 [==============================] - 12s 26ms/step - loss: 2.0465 - accuracy: 0.3618 - val_loss: 2.4540 - val_accuracy: 0.4348\n",
            "Epoch 8/64\n",
            "475/475 [==============================] - 13s 26ms/step - loss: 1.9187 - accuracy: 0.4102 - val_loss: 0.8645 - val_accuracy: 0.4882\n",
            "Epoch 9/64\n",
            "475/475 [==============================] - 12s 26ms/step - loss: 1.7924 - accuracy: 0.4415 - val_loss: 1.5092 - val_accuracy: 0.5301\n",
            "Epoch 10/64\n",
            "475/475 [==============================] - 12s 26ms/step - loss: 1.6783 - accuracy: 0.4826 - val_loss: 0.8481 - val_accuracy: 0.5630\n",
            "Epoch 11/64\n",
            "475/475 [==============================] - 12s 26ms/step - loss: 1.5650 - accuracy: 0.5142 - val_loss: 0.3110 - val_accuracy: 0.5438\n",
            "Epoch 12/64\n",
            "475/475 [==============================] - 13s 27ms/step - loss: 1.4357 - accuracy: 0.5671 - val_loss: 0.6343 - val_accuracy: 0.5953\n",
            "Epoch 13/64\n",
            "475/475 [==============================] - 12s 26ms/step - loss: 1.3619 - accuracy: 0.5827 - val_loss: 0.3968 - val_accuracy: 0.6297\n",
            "Epoch 14/64\n",
            "475/475 [==============================] - 12s 26ms/step - loss: 1.2663 - accuracy: 0.6087 - val_loss: 1.4715 - val_accuracy: 0.6335\n",
            "Epoch 15/64\n",
            "475/475 [==============================] - 12s 26ms/step - loss: 1.1825 - accuracy: 0.6422 - val_loss: 3.0738 - val_accuracy: 0.6474\n",
            "Epoch 16/64\n",
            "475/475 [==============================] - 12s 26ms/step - loss: 1.1003 - accuracy: 0.6685 - val_loss: 0.3075 - val_accuracy: 0.6944\n",
            "Epoch 17/64\n",
            "475/475 [==============================] - 12s 26ms/step - loss: 1.0424 - accuracy: 0.6862 - val_loss: 0.0591 - val_accuracy: 0.6829\n",
            "Epoch 18/64\n",
            "475/475 [==============================] - 12s 26ms/step - loss: 0.9616 - accuracy: 0.7112 - val_loss: 0.4589 - val_accuracy: 0.6675\n",
            "Epoch 19/64\n",
            "475/475 [==============================] - 12s 26ms/step - loss: 0.9178 - accuracy: 0.7243 - val_loss: 0.5164 - val_accuracy: 0.7033\n",
            "Epoch 20/64\n",
            "475/475 [==============================] - 12s 26ms/step - loss: 0.8660 - accuracy: 0.7449 - val_loss: 2.0196 - val_accuracy: 0.7396\n",
            "Epoch 21/64\n",
            "475/475 [==============================] - 12s 26ms/step - loss: 0.8122 - accuracy: 0.7570 - val_loss: 0.0237 - val_accuracy: 0.6955\n",
            "Epoch 22/64\n",
            "475/475 [==============================] - 12s 26ms/step - loss: 0.7758 - accuracy: 0.7651 - val_loss: 2.7341 - val_accuracy: 0.7451\n",
            "Epoch 23/64\n",
            "475/475 [==============================] - 12s 26ms/step - loss: 0.7372 - accuracy: 0.7638 - val_loss: 0.1078 - val_accuracy: 0.7487\n",
            "Epoch 24/64\n",
            "475/475 [==============================] - 12s 26ms/step - loss: 0.7130 - accuracy: 0.7828 - val_loss: 2.2820 - val_accuracy: 0.7359\n",
            "Epoch 25/64\n",
            "475/475 [==============================] - 12s 26ms/step - loss: 0.6896 - accuracy: 0.7925 - val_loss: 3.1430 - val_accuracy: 0.7587\n",
            "Epoch 26/64\n",
            "475/475 [==============================] - 12s 26ms/step - loss: 0.6387 - accuracy: 0.8052 - val_loss: 0.9503 - val_accuracy: 0.7728\n",
            "Epoch 27/64\n",
            "475/475 [==============================] - 12s 26ms/step - loss: 0.6260 - accuracy: 0.8133 - val_loss: 3.2590 - val_accuracy: 0.7571\n",
            "Epoch 28/64\n",
            "475/475 [==============================] - 12s 26ms/step - loss: 0.6000 - accuracy: 0.8183 - val_loss: 1.9610 - val_accuracy: 0.7746\n",
            "Epoch 29/64\n",
            "475/475 [==============================] - 13s 26ms/step - loss: 0.5834 - accuracy: 0.8249 - val_loss: 0.0471 - val_accuracy: 0.7716\n",
            "Epoch 30/64\n",
            "475/475 [==============================] - 12s 26ms/step - loss: 0.5852 - accuracy: 0.8281 - val_loss: 0.0258 - val_accuracy: 0.7872\n",
            "Epoch 31/64\n",
            "475/475 [==============================] - 12s 26ms/step - loss: 0.5366 - accuracy: 0.8333 - val_loss: 0.0444 - val_accuracy: 0.7662\n",
            "Epoch 32/64\n",
            "475/475 [==============================] - 12s 26ms/step - loss: 0.5363 - accuracy: 0.8460 - val_loss: 0.9915 - val_accuracy: 0.7943\n",
            "Epoch 33/64\n",
            "475/475 [==============================] - 12s 26ms/step - loss: 0.5136 - accuracy: 0.8433 - val_loss: 5.5248 - val_accuracy: 0.7829\n",
            "Epoch 34/64\n",
            "475/475 [==============================] - 12s 26ms/step - loss: 0.5173 - accuracy: 0.8486 - val_loss: 0.6870 - val_accuracy: 0.8003\n",
            "Epoch 35/64\n",
            "475/475 [==============================] - 12s 26ms/step - loss: 0.4679 - accuracy: 0.8576 - val_loss: 5.1856e-06 - val_accuracy: 0.7844\n",
            "Epoch 36/64\n",
            "475/475 [==============================] - 12s 26ms/step - loss: 0.4704 - accuracy: 0.8594 - val_loss: 0.0030 - val_accuracy: 0.7746\n",
            "Epoch 37/64\n",
            "475/475 [==============================] - 13s 26ms/step - loss: 0.4850 - accuracy: 0.8523 - val_loss: 1.9509 - val_accuracy: 0.8100\n",
            "Epoch 38/64\n",
            "475/475 [==============================] - 12s 26ms/step - loss: 0.4544 - accuracy: 0.8686 - val_loss: 2.8258 - val_accuracy: 0.7985\n",
            "Epoch 39/64\n",
            "475/475 [==============================] - 12s 26ms/step - loss: 0.4541 - accuracy: 0.8752 - val_loss: 0.1112 - val_accuracy: 0.7938\n",
            "Epoch 40/64\n",
            "475/475 [==============================] - 12s 25ms/step - loss: 0.4539 - accuracy: 0.8702 - val_loss: 1.5674 - val_accuracy: 0.7977\n",
            "Epoch 41/64\n",
            "475/475 [==============================] - 12s 26ms/step - loss: 0.4430 - accuracy: 0.8791 - val_loss: 0.0808 - val_accuracy: 0.8108\n",
            "Epoch 42/64\n",
            "475/475 [==============================] - 12s 26ms/step - loss: 0.4487 - accuracy: 0.8784 - val_loss: 0.0506 - val_accuracy: 0.8137\n",
            "Epoch 43/64\n",
            "475/475 [==============================] - 12s 26ms/step - loss: 0.4093 - accuracy: 0.8828 - val_loss: 2.2174 - val_accuracy: 0.8094\n",
            "Epoch 44/64\n",
            "475/475 [==============================] - 12s 26ms/step - loss: 0.4526 - accuracy: 0.8757 - val_loss: 0.0523 - val_accuracy: 0.8112\n",
            "Epoch 45/64\n",
            "475/475 [==============================] - 12s 25ms/step - loss: 0.4547 - accuracy: 0.8810 - val_loss: 0.6527 - val_accuracy: 0.7834\n",
            "Epoch 46/64\n",
            "475/475 [==============================] - 12s 26ms/step - loss: 0.4725 - accuracy: 0.8760 - val_loss: 0.0143 - val_accuracy: 0.7779\n",
            "Epoch 47/64\n",
            "475/475 [==============================] - 12s 26ms/step - loss: 0.4393 - accuracy: 0.8784 - val_loss: 1.1984 - val_accuracy: 0.8033\n",
            "Epoch 48/64\n",
            "475/475 [==============================] - 12s 26ms/step - loss: 0.4703 - accuracy: 0.8773 - val_loss: 1.7407 - val_accuracy: 0.8081\n",
            "Epoch 49/64\n",
            "475/475 [==============================] - 12s 26ms/step - loss: 0.4687 - accuracy: 0.8765 - val_loss: 1.1563e-05 - val_accuracy: 0.8102\n",
            "Epoch 50/64\n",
            "475/475 [==============================] - 12s 26ms/step - loss: 0.4681 - accuracy: 0.8736 - val_loss: 0.0018 - val_accuracy: 0.8006\n",
            "Epoch 51/64\n",
            "475/475 [==============================] - 12s 26ms/step - loss: 0.4376 - accuracy: 0.8805 - val_loss: 0.7891 - val_accuracy: 0.7707\n",
            "Epoch 52/64\n",
            "475/475 [==============================] - 12s 26ms/step - loss: 0.4777 - accuracy: 0.8749 - val_loss: 2.2828e-05 - val_accuracy: 0.7930\n",
            "Epoch 53/64\n",
            "475/475 [==============================] - 12s 26ms/step - loss: 0.4565 - accuracy: 0.8765 - val_loss: 0.0161 - val_accuracy: 0.8257\n",
            "Epoch 54/64\n",
            "475/475 [==============================] - 12s 26ms/step - loss: 0.4847 - accuracy: 0.8734 - val_loss: 0.0535 - val_accuracy: 0.8101\n",
            "Epoch 55/64\n",
            "475/475 [==============================] - 12s 26ms/step - loss: 0.4849 - accuracy: 0.8770 - val_loss: 0.4310 - val_accuracy: 0.7763\n",
            "Epoch 56/64\n",
            "475/475 [==============================] - 12s 26ms/step - loss: 0.5431 - accuracy: 0.8744 - val_loss: 6.8325 - val_accuracy: 0.8157\n",
            "Epoch 57/64\n",
            "475/475 [==============================] - 12s 26ms/step - loss: 0.4768 - accuracy: 0.8813 - val_loss: 1.0945 - val_accuracy: 0.8006\n",
            "Epoch 58/64\n",
            "475/475 [==============================] - 12s 26ms/step - loss: 0.5204 - accuracy: 0.8768 - val_loss: 0.0088 - val_accuracy: 0.8322\n",
            "Epoch 59/64\n",
            "475/475 [==============================] - 12s 26ms/step - loss: 0.5219 - accuracy: 0.8707 - val_loss: 0.0000e+00 - val_accuracy: 0.8303\n",
            "Epoch 60/64\n",
            "475/475 [==============================] - 12s 25ms/step - loss: 0.4990 - accuracy: 0.8734 - val_loss: 7.5571 - val_accuracy: 0.7946\n",
            "Epoch 61/64\n",
            "475/475 [==============================] - 12s 25ms/step - loss: 0.5189 - accuracy: 0.8739 - val_loss: 0.0052 - val_accuracy: 0.8033\n",
            "Epoch 62/64\n",
            "475/475 [==============================] - 12s 26ms/step - loss: 0.5780 - accuracy: 0.8615 - val_loss: 0.8765 - val_accuracy: 0.7840\n",
            "Epoch 63/64\n",
            "475/475 [==============================] - 12s 26ms/step - loss: 0.5408 - accuracy: 0.8744 - val_loss: 7.6884e-05 - val_accuracy: 0.7685\n",
            "Epoch 64/64\n",
            "475/475 [==============================] - 12s 26ms/step - loss: 0.5341 - accuracy: 0.8694 - val_loss: 0.0024 - val_accuracy: 0.8133\n",
            "28/28 [==============================] - 0s 5ms/step\n"
          ],
          "name": "stdout"
        },
        {
          "output_type": "display_data",
          "data": {
            "image/png": "[encoded data removed]",
            "text/plain": [
              "<Figure size 864x432 with 2 Axes>"
            ]
          },
          "metadata": {
            "tags": [],
            "needs_background": "light"
          }
        }
      ]
    },
    {
      "cell_type": "code",
      "metadata": {
        "colab_type": "code",
        "id": "8rnn7VeQLBvN",
        "outputId": "2c8837fa-a779-4796-d031-c0ab4ed48c8c",
        "colab": {
          "base_uri": "https://localhost:8080/",
          "height": 51
        }
      },
      "source": [
        "mycnn4.evaluate(X_t, y_t)\n",
        "mycnn4.getAccuracy()"
      ],
      "execution_count": 0,
      "outputs": [
        {
          "output_type": "stream",
          "text": [
            "28/28 [==============================] - 0s 6ms/step\n"
          ],
          "name": "stdout"
        },
        {
          "output_type": "execute_result",
          "data": {
            "text/plain": [
              "0.8235955238342285"
            ]
          },
          "metadata": {
            "tags": []
          },
          "execution_count": 63
        }
      ]
    },
    {
      "cell_type": "code",
      "metadata": {
        "colab_type": "code",
        "id": "zrxC8nPDOQQ-",
        "outputId": "8bfd1198-8e51-4d00-9144-3f4bf25b4dc4",
        "colab": {
          "base_uri": "https://localhost:8080/",
          "height": 436
        }
      },
      "source": [
        "accurracyLossComparative(mycnn4.getHistory(), 'Titulo molon' )"
      ],
      "execution_count": 0,
      "outputs": [
        {
          "output_type": "display_data",
          "data": {
            "image/png": "[encoded data removed]",
            "text/plain": [
              "<Figure size 864x432 with 2 Axes>"
            ]
          },
          "metadata": {
            "tags": [],
            "needs_background": "light"
          }
        }
      ]
    },
    {
      "cell_type": "code",
      "metadata": {
        "colab_type": "code",
        "id": "i2z0nlg7ORs7",
        "colab": {}
      },
      "source": [
        ""
      ],
      "execution_count": 0,
      "outputs": []
    }
  ]
}