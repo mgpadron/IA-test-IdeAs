{
  "nbformat": 4,
  "nbformat_minor": 0,
  "metadata": {
    "accelerator": "GPU",
    "colab": {
      "name": "Actividad_2-clean - mgpadron.ipynb",
      "provenance": [],
      "collapsed_sections": [],
      "include_colab_link": true
    },
    "kernelspec": {
      "display_name": "Python 3",
      "language": "python",
      "name": "python3"
    },
    "language_info": {
      "codemirror_mode": {
        "name": "ipython",
        "version": 3
      },
      "file_extension": ".py",
      "mimetype": "text/x-python",
      "name": "python",
      "nbconvert_exporter": "python",
      "pygments_lexer": "ipython3",
      "version": "3.7.7"
    }
  },
  "cells": [
    {
      "cell_type": "markdown",
      "metadata": {
        "id": "view-in-github",
        "colab_type": "text"
      },
      "source": [
        "<a href=\"https://colab.research.google.com/github/mgpadron/IA-test-IdeAs/blob/master/Actividad_2_clean_mgpadron_VGG.ipynb\" target=\"_parent\"><img src=\"https://colab.research.google.com/assets/colab-badge.svg\" alt=\"Open In Colab\"/></a>"
      ]
    },
    {
      "cell_type": "markdown",
      "metadata": {
        "colab_type": "text",
        "id": "mX8gZlVyCCbz"
      },
      "source": [
        "# Actividad 2: Convolutional Neural Networks\n",
        "\n",
        "En esta actividad, vamos a trabajar con Convolutional Neural Networks para resolver un problema de clasificación de imágenes. En particular, vamos a clasificar imágenes de personajes de la conocida serie de los Simpsons.\n",
        "\n",
        "Como las CNN profundas son un tipo de modelo bastante avanzado y computacionalmente costoso, se recomienda hacer la práctica en Google Colaboratory con soporte para GPUs. En [este enlace](https://medium.com/deep-learning-turkey/google-colab-free-gpu-tutorial-e113627b9f5d) se explica cómo activar un entorno con GPUs. *Nota: para leer las imágenes y estandarizarlas al mismo tamaño se usa la librería opencv. Esta ĺibrería está ya instalada en el entorno de Colab, pero si trabajáis de manera local tendréis que instalarla.*\n",
        "\n",
        "<center><img src=\"https://i.imgur.com/i8zIGqX.jpg\" style=\"text-align: center\" height=\"300px\"></center>\n",
        "\n",
        "El dataset a utilizar consiste en imágenes de personajes de los Simpsons extraídas directamente de capítulos de la serie. Este dataset ha sido recopilado por [Alexandre Attia](http://www.alexattia.fr/) y es más complejo que el dataset de Fashion MNIST que hemos utilizado hasta ahora. Aparte de tener más clases (vamos a utilizar los 18 personajes con más imágenes), los personajes pueden aparecer en distintas poses, en distintas posiciones de la imagen o con otros personajes en pantalla (si bien el personaje a clasificar siempre aparece en la posición predominante).\n",
        "\n",
        "El dataset de training puede ser descargado desde aquí:\n",
        "\n",
        "[Training data](https://onedrive.live.com/download?cid=C506CF0A4F373B0F&resid=C506CF0A4F373B0F%219337&authkey=AMzI92bJPx8Sd60) (~500MB)\n",
        "\n",
        "Por otro lado, el dataset de test puede ser descargado de aquí:\n",
        "\n",
        "[Test data](https://onedrive.live.com/download?cid=C506CF0A4F373B0F&resid=C506CF0A4F373B0F%219341&authkey=ANnjK3Uq1FhuAe8) (~10MB)\n",
        "\n",
        "Antes de empezar la práctica, se recomienda descargar las imágenes y echarlas un vistazo.\n"
      ]
    },
    {
      "cell_type": "markdown",
      "metadata": {
        "colab_type": "text",
        "id": "QI274F8LQC59"
      },
      "source": [
        "## Carga de los datos"
      ]
    },
    {
      "cell_type": "code",
      "metadata": {
        "colab_type": "code",
        "id": "D7tKOZ9BFfki",
        "colab": {}
      },
      "source": [
        "import cv2\n",
        "import os\n",
        "import numpy as np \n",
        "import keras\n",
        "import matplotlib.pyplot as plt\n",
        "import glob\n",
        "\n",
        "\n",
        "# Primero, bajamos los datos de entrenamiento\n",
        "keras.utils.get_file(fname=\"simpsons_train.tar.gz\", \n",
        "                     origin=\"https://onedrive.live.com/download?cid=C506CF0A4F373B0F&resid=C506CF0A4F373B0F%219337&authkey=AMzI92bJPx8Sd60\")\n",
        "\n",
        "# Descomprimimos el archivo\n",
        "#!tar -xzf /root/.keras/datasets/simpsons_train.tar.gz -C /root/.keras/datasets\n",
        "!tar -xzf ~/.keras/datasets/simpsons_train.tar.gz \n",
        "\n",
        "# Hacemos lo mismo con los datos de test\n",
        "keras.utils.get_file(fname=\"simpsons_test.tar.gz\", \n",
        "                     origin=\"https://onedrive.live.com/download?cid=C506CF0A4F373B0F&resid=C506CF0A4F373B0F%219341&authkey=ANnjK3Uq1FhuAe8\")\n",
        "#!tar -xzf /root/.keras/datasets/simpsons_test.tar.gz -C /root/.keras/datasets\n",
        "!tar -xzf ~/.keras/datasets/simpsons_test.tar.gz "
      ],
      "execution_count": 0,
      "outputs": []
    },
    {
      "cell_type": "code",
      "metadata": {
        "colab_type": "code",
        "id": "hMFhe3COFwSD",
        "colab": {}
      },
      "source": [
        "# Esta variable contiene un mapeo de número de clase a personaje.\n",
        "# Utilizamos sólo los 18 personajes del dataset que tienen más imágenes.\n",
        "MAP_CHARACTERS = {\n",
        "    0: 'abraham_grampa_simpson', 1: 'apu_nahasapeemapetilon', 2: 'bart_simpson',\n",
        "    3: 'charles_montgomery_burns', 4: 'chief_wiggum', 5: 'comic_book_guy', 6: 'edna_krabappel', \n",
        "    7: 'homer_simpson', 8: 'kent_brockman', 9: 'krusty_the_clown', 10: 'lisa_simpson', \n",
        "    11: 'marge_simpson', 12: 'milhouse_van_houten', 13: 'moe_szyslak', \n",
        "    14: 'ned_flanders', 15: 'nelson_muntz', 16: 'principal_skinner', 17: 'sideshow_bob'\n",
        "}\n",
        "\n",
        "# Vamos a standarizar todas las imágenes a tamaño 64x64\n",
        "IMG_SIZE = 64"
      ],
      "execution_count": 0,
      "outputs": []
    },
    {
      "cell_type": "code",
      "metadata": {
        "colab_type": "code",
        "id": "5bJ0NsbCbupF",
        "colab": {}
      },
      "source": [
        "def load_train_set(dirname, map_characters, verbose=True):\n",
        "    \"\"\"Esta función carga los datos de training en imágenes.\n",
        "    \n",
        "    Como las imágenes tienen tamaños distintas, utilizamos la librería opencv\n",
        "    para hacer un resize y adaptarlas todas a tamaño IMG_SIZE x IMG_SIZE.\n",
        "    \n",
        "    Args:\n",
        "        dirname: directorio completo del que leer los datos\n",
        "        map_characters: variable de mapeo entre labels y personajes\n",
        "        verbose: si es True, muestra información de las imágenes cargadas\n",
        "     \n",
        "    Returns:\n",
        "        X, y: X es un array con todas las imágenes cargadas con tamaño\n",
        "                IMG_SIZE x IMG_SIZE\n",
        "              y es un array con las labels de correspondientes a cada imagen\n",
        "    \"\"\"\n",
        "    X_train = []\n",
        "    y_train = []\n",
        "    for label, character in map_characters.items():        \n",
        "        files = os.listdir(os.path.join(dirname, character))\n",
        "        images = [file for file in files if file.endswith(\"jpg\")]\n",
        "        if verbose:\n",
        "          print(\"Leyendo {} imágenes encontradas de {}\".format(len(images), character))\n",
        "        for image_name in images:\n",
        "            image = cv2.imread(os.path.join(dirname, character, image_name))\n",
        "            X_train.append(cv2.resize(image,(IMG_SIZE, IMG_SIZE)))\n",
        "            y_train.append(label)\n",
        "    return np.array(X_train), np.array(y_train)"
      ],
      "execution_count": 0,
      "outputs": []
    },
    {
      "cell_type": "code",
      "metadata": {
        "colab_type": "code",
        "id": "NslxhnnDK6uA",
        "colab": {}
      },
      "source": [
        "def load_test_set(dirname, map_characters, verbose=True):\n",
        "    \"\"\"Esta función funciona de manera equivalente a la función load_train_set\n",
        "    pero cargando los datos de test.\"\"\"\n",
        "    X_test = []\n",
        "    y_test = []\n",
        "    reverse_dict = {v: k for k, v in map_characters.items()}\n",
        "    for filename in glob.glob(dirname + '/*.*'):\n",
        "        char_name = \"_\".join(filename.split('/')[-1].split('_')[:-1])\n",
        "        if char_name in reverse_dict:\n",
        "            image = cv2.imread(filename)\n",
        "            image = cv2.resize(image, (IMG_SIZE, IMG_SIZE))\n",
        "            X_test.append(image)\n",
        "            y_test.append(reverse_dict[char_name])\n",
        "    if verbose:\n",
        "        print(\"Leídas {} imágenes de test\".format(len(X_test)))\n",
        "    return np.array(X_test), np.array(y_test)\n"
      ],
      "execution_count": 0,
      "outputs": []
    },
    {
      "cell_type": "code",
      "metadata": {
        "colab_type": "code",
        "id": "WVWqKxFcbwTu",
        "outputId": "39ae7d32-9bd7-4f54-9e27-93cc73a8cadd",
        "colab": {
          "base_uri": "https://localhost:8080/",
          "height": 347
        }
      },
      "source": [
        "# Cargamos los datos. Si no estás trabajando en colab, cambia los paths por\n",
        "# los de los ficheros donde hayas descargado los datos.\n",
        "#DATASET_TRAIN_PATH_COLAB = \"/root/.keras/datasets/simpsons\"\n",
        "#DATASET_TEST_PATH_COLAB = \"/root/.keras/datasets/simpsons_testset\"\n",
        "\n",
        "DATASET_TRAIN_PATH_COLAB = \"simpsons\"\n",
        "DATASET_TEST_PATH_COLAB = \"simpsons_testset\"\n",
        "\n",
        "X, y = load_train_set(DATASET_TRAIN_PATH_COLAB, MAP_CHARACTERS)\n",
        "X_t, y_t = load_test_set(DATASET_TEST_PATH_COLAB, MAP_CHARACTERS)"
      ],
      "execution_count": 43,
      "outputs": [
        {
          "output_type": "stream",
          "text": [
            "Leyendo 913 imágenes encontradas de abraham_grampa_simpson\n",
            "Leyendo 623 imágenes encontradas de apu_nahasapeemapetilon\n",
            "Leyendo 1342 imágenes encontradas de bart_simpson\n",
            "Leyendo 1193 imágenes encontradas de charles_montgomery_burns\n",
            "Leyendo 986 imágenes encontradas de chief_wiggum\n",
            "Leyendo 469 imágenes encontradas de comic_book_guy\n",
            "Leyendo 457 imágenes encontradas de edna_krabappel\n",
            "Leyendo 2246 imágenes encontradas de homer_simpson\n",
            "Leyendo 498 imágenes encontradas de kent_brockman\n",
            "Leyendo 1206 imágenes encontradas de krusty_the_clown\n",
            "Leyendo 1354 imágenes encontradas de lisa_simpson\n",
            "Leyendo 1291 imágenes encontradas de marge_simpson\n",
            "Leyendo 1079 imágenes encontradas de milhouse_van_houten\n",
            "Leyendo 1452 imágenes encontradas de moe_szyslak\n",
            "Leyendo 1454 imágenes encontradas de ned_flanders\n",
            "Leyendo 358 imágenes encontradas de nelson_muntz\n",
            "Leyendo 1194 imágenes encontradas de principal_skinner\n",
            "Leyendo 877 imágenes encontradas de sideshow_bob\n",
            "Leídas 890 imágenes de test\n"
          ],
          "name": "stdout"
        }
      ]
    },
    {
      "cell_type": "code",
      "metadata": {
        "colab_type": "code",
        "id": "2GY4vTFyfffv",
        "colab": {}
      },
      "source": [
        "# Vamos a barajar aleatoriamente los datos. Esto es importante ya que si no\n",
        "# lo hacemos y, por ejemplo, cogemos el 20% de los datos finales como validation\n",
        "# set, estaremos utilizando solo un pequeño número de personajes, ya que\n",
        "# las imágenes se leen secuencialmente personaje a personaje.\n",
        "perm = np.random.permutation(len(X))\n",
        "X, y = X[perm], y[perm]"
      ],
      "execution_count": 0,
      "outputs": []
    },
    {
      "cell_type": "markdown",
      "metadata": {
        "colab_type": "text",
        "id": "pBbmz9DMhVhc"
      },
      "source": [
        "## Entregable\n",
        "\n",
        "Utilizando Convolutional Neural Networks con Keras, entrenar un clasificador que sea capaz de reconocer personajes en imágenes de los Simpsons con una accuracy en el dataset de test de **85%**. Redactar un informe analizando varias de las alternativas probadas y los resultados obtenidos.\n",
        "\n",
        "A continuación se detallan una serie de aspectos orientativos que podrían ser analizados en vuestro informe (no es necesario tratar todos ellos ni mucho menos, esto son ideas orientativas de aspectos que podéis explorar):\n",
        "\n",
        "*   Análisis de los datos a utilizar.\n",
        "*   Análisis de resultados, obtención de métricas de *precision* y *recall* por clase y análisis de qué clases obtienen mejores o peores resultados.\n",
        "*   Análisis visual de los errores de la red. ¿Qué tipo de imágenes o qué personajes dan más problemas a nuestro modelo?\n",
        "*   Comparación de modelos CNNs con un modelo de Fully Connected para este problema.\n",
        "*   Utilización de distintas arquitecturas CNNs, comentando aspectos como su profundidad, hiperparámetros utilizados, optimizador, uso de técnicas de regularización, *batch normalization*, etc.\n",
        "*   [ *algo más difícil* ] Utilización de *data augmentation*. Esto puede conseguirse con la clase [ImageDataGenerator](https://keras.io/preprocessing/image/#imagedatagenerator-class) de Keras.\n",
        "\n",
        "Notas: \n",
        "* Recuerda partir los datos en training/validation para tener una buena estimación de los valores que nuestro modelo tendrá en los datos de test, así como comprobar que no estamos cayendo en overfitting. Una posible partición puede ser 80 / 20.\n",
        "* No es necesario mostrar en el notebook las trazas de entrenamiento de todos los modelos entrenados, si bien una buena idea seria guardar gráficas de esos entrenamientos para el análisis. Sin embargo, **se debe mostrar el entrenamiento completo del mejor modelo obtenido y la evaluación de los datos de test con este modelo**.\n",
        "* Las imágenes **no están normalizadas**. Hay que normalizarlas como hemos hecho en trabajos anteriores.\n",
        "* El test set del problema tiene imágenes un poco más \"fáciles\", por lo que es posible encontrarse con métricas en el test set bastante mejores que en el training set."
      ]
    },
    {
      "cell_type": "markdown",
      "metadata": {
        "colab_type": "text",
        "id": "SseGu3ZTFEig"
      },
      "source": [
        "### Funciones auxiliares"
      ]
    },
    {
      "cell_type": "code",
      "metadata": {
        "colab_type": "code",
        "id": "9s4LcIpcj7CJ",
        "colab": {}
      },
      "source": [
        "# Herramienta para visualizar ejemplos\n",
        "\n",
        "def visualize_example(x):\n",
        "    plt.figure()\n",
        "    plt.imshow(x)\n",
        "    plt.colorbar()\n",
        "    plt.grid(False)\n",
        "    plt.show()\n",
        "    \n",
        "# Analisis del dataset\n",
        "def datasetAnalysis(X):    \n",
        "  trainingSetLength = len(X)\n",
        "  rowsPerImage = len(X[0])\n",
        "  columnsPerImage = len(X[0][0])\n",
        "  coloursPerImage = len(X[0][0][0])\n",
        "  valuesPerPixel = X[0][0][0]\n",
        "\n",
        "  print('La estructura del dataset es: ' + str(X.shape))\n",
        "  print('El tamaño del dataset es de ' + str(trainingSetLength) + ' imágenes.')\n",
        "  print('El tamaño de las imágenes es de ' + str(rowsPerImage) + ' pixeles x ' + str(columnsPerImage) + ' pixeles. Tiene ' + str(coloursPerImage) + ' valores por pixel.')  \n",
        "  print('Los valores que toman están entre ' + str(np.amin(X)) + ' y ' + str(np.amax(X)) + '.')\n",
        "\n",
        "# función para separar el conjunto de datos en validacion y test\n",
        "# x_data, datos\n",
        "# y_data, etiquetas\n",
        "# percentaje, porcentaje de datos a usar para test\n",
        "#\n",
        "# devuelve Datos_validacion, Datos_test, Etiquetas_validacion, Etiquetas_test\n",
        "def extractValidationData(x_data, y_data, percentage):\n",
        "  data_len = len(x_data)\n",
        "  val_data_len = int(percentage * data_len)\n",
        "  return (x_data[-val_data_len:], x_data[:-val_data_len], y_data[-val_data_len:], y_data[:-val_data_len])\n",
        "\n",
        "# comparativa de convergencia con datos entrenados y de validación\n",
        "def accurracyLossComparative(data, title):\n",
        "\n",
        "    f, axs = plt.subplots(1,2, figsize=(12,6))\n",
        "    \n",
        "    f.suptitle(title, fontsize=18)\n",
        "#    axs[0].plot(data.history['acc'])\n",
        "#    axs[0].plot(data.history['val_acc'])\n",
        "    # OJO CUIDADO, para que funcione en collab he tenido que comentar las\n",
        "    # dos lineas anteriores y añadir las dos siguientes\n",
        "    axs[0].plot(data.history['accuracy'])\n",
        "    axs[0].plot(data.history['val_accuracy'])\n",
        "    axs[0].set_xlabel('Epoch', fontsize=16)\n",
        "    axs[0].set_ylabel('Acurracy', fontsize=16)\n",
        "    axs[0].legend(['Entrenamiento', 'Validación'], loc='lower right')\n",
        "\n",
        "    axs[1].plot(data.history['loss'])\n",
        "    axs[1].plot(data.history['val_loss'])\n",
        "    axs[1].set_xlabel('Epoch', fontsize=16)\n",
        "    axs[1].set_ylabel('Loss', fontsize=16)\n",
        "    axs[1].legend(['Entrenamiento', 'Validación'], loc='upper right')          \n",
        "    return"
      ],
      "execution_count": 0,
      "outputs": []
    },
    {
      "cell_type": "code",
      "metadata": {
        "colab_type": "code",
        "id": "4DZ2lSRlj-du",
        "outputId": "3e574908-762f-40f0-b41c-77fe7e614b99",
        "colab": {
          "base_uri": "https://localhost:8080/",
          "height": 268
        }
      },
      "source": [
        "visualize_example(X[0])"
      ],
      "execution_count": 46,
      "outputs": [
        {
          "output_type": "display_data",
          "data": {
            "image/png": "[encoded data removed]",
            "text/plain": [
              "<Figure size 432x288 with 2 Axes>"
            ]
          },
          "metadata": {
            "tags": [],
            "needs_background": "light"
          }
        }
      ]
    },
    {
      "cell_type": "code",
      "metadata": {
        "colab_type": "code",
        "id": "E1hafhc9q6W-",
        "colab": {}
      },
      "source": [
        "# NO HACE FALTA, LA CLASE SE ENCARGA DE ELLO\n",
        "\n",
        "# Extraemos un 20% de los datos para validación\n",
        "#X_val, X_test, y_val, y_test = extractValidationData(X_t, y_t, 0.2)\n",
        "#print('TRAINING DATASET')\n",
        "#datasetAnalysis(X)\n",
        "#print('TEST DATASET')\n",
        "#datasetAnalysis(X_test)\n",
        "#print('VALIDATION DATASET')\n",
        "#datasetAnalysis(X_val)"
      ],
      "execution_count": 0,
      "outputs": []
    },
    {
      "cell_type": "code",
      "metadata": {
        "colab_type": "code",
        "id": "GgxjiH6TFEiu",
        "colab": {}
      },
      "source": [
        "import time\n",
        "from keras.models import Sequential\n",
        "from keras.layers import Dense, Dropout, Flatten\n",
        "from keras.layers import Conv2D, MaxPooling2D, MaxPool2D\n",
        "from keras.optimizers import Adam\n",
        "from keras.callbacks import ModelCheckpoint, EarlyStopping\n",
        "\n",
        "# clase que implementa la red neuronal\n",
        "#  * x_data, datos de entrenamiento\n",
        "#  * y_data, etiqueta de los datos de entrenamiento\n",
        "#  * input_shape, entrada de la red neuronal\n",
        "#  * epochs, epochs\n",
        "#  * batch_size, tamaño del batch\n",
        "#  * lr, learning rate\n",
        "#  * metrics, metricas a utilizar\n",
        "#  * val_percent, indica el tanto por ciento del conjunto de datos que va a \n",
        "#    utilizar para validar el modelo durante el entrenamiento, por defecto\n",
        "#    es un 20 % (0.2)\n",
        "#  * verbose, activar o desactivar modo verbose\n",
        "#\n",
        "# uso:\n",
        "#  * instanciar: mycnn = cnn(x_data, y_data, input_shape, epochs=12, \n",
        "#                            batch_size=128, metrics=['accuracy'], \n",
        "#                            val_percent=0.2, verbose=True))\n",
        "#  * crear la red neuronal: mycnn.create()\n",
        "#  * entrenar: myccn.train()\n",
        "#  * evaluar: mycnn.evaluate(test_data, test_label)\n",
        "class cnn:\n",
        "    def __init__(self, x_data, y_data, input_shape, epochs=12, batch_size=128, metrics=['accuracy'], \n",
        "                 val_percent=0.2, lr=0.0001, verbose=True):\n",
        "              \n",
        "        self.input_shape = input_shape\n",
        "        self.epochs = epochs\n",
        "        self.batch_size = batch_size\n",
        "        self.metrics = metrics\n",
        "        self.lr = lr\n",
        "        self.x_data = x_data\n",
        "        self.y_data = y_data\n",
        "        self.val_data_len = int(val_percent * len(self.x_data))\n",
        "        # conjunto de entrenamiento\n",
        "        self.train_data = x_data[-self.val_data_len:]\n",
        "        self.train_labels = y_data[-self.val_data_len:]\n",
        "        # conjunto de validación\n",
        "        self.val_data = x_data[:-self.val_data_len]\n",
        "        self.val_labels = y_data[:-self.val_data_len]\n",
        "        self.time = ''\n",
        "        self.history = ''\n",
        "        self.accuracy = ''\n",
        "        \n",
        "        self.verbose = verbose\n",
        "        \n",
        "    # definimos la red neuronal\n",
        "    def create(self):\n",
        "       \n",
        "        self.cnn = Sequential()\n",
        "\n",
        "      #Arquitecura VGG16\n",
        "\n",
        "        self.cnn.add(Conv2D(input_shape=self.input_shape,filters=64,kernel_size=(3,3),padding=\"same\", activation=\"relu\"))\n",
        "        self.cnn.add(Conv2D(filters=64,kernel_size=(3,3),padding=\"same\", activation=\"relu\"))\n",
        "        self.cnn.add(MaxPool2D(pool_size=(2,2),strides=(2,2)))\n",
        "        self.cnn.add(Conv2D(filters=128, kernel_size=(3,3), padding=\"same\", activation=\"relu\"))\n",
        "        self.cnn.add(Conv2D(filters=128, kernel_size=(3,3), padding=\"same\", activation=\"relu\"))\n",
        "        self.cnn.add(MaxPool2D(pool_size=(2,2),strides=(2,2)))\n",
        "        self.cnn.add(Conv2D(filters=256, kernel_size=(3,3), padding=\"same\", activation=\"relu\"))\n",
        "        self.cnn.add(Conv2D(filters=256, kernel_size=(3,3), padding=\"same\", activation=\"relu\"))\n",
        "        self.cnn.add(Conv2D(filters=256, kernel_size=(3,3), padding=\"same\", activation=\"relu\"))\n",
        "        self.cnn.add(MaxPool2D(pool_size=(2,2),strides=(2,2)))\n",
        "        self.cnn.add(Conv2D(filters=512, kernel_size=(3,3), padding=\"same\", activation=\"relu\"))\n",
        "        self.cnn.add(Conv2D(filters=512, kernel_size=(3,3), padding=\"same\", activation=\"relu\"))\n",
        "        self.cnn.add(Conv2D(filters=512, kernel_size=(3,3), padding=\"same\", activation=\"relu\"))\n",
        "        self.cnn.add(MaxPool2D(pool_size=(2,2),strides=(2,2)))\n",
        "        self.cnn.add(Conv2D(filters=512, kernel_size=(3,3), padding=\"same\", activation=\"relu\"))\n",
        "        self.cnn.add(Conv2D(filters=512, kernel_size=(3,3), padding=\"same\", activation=\"relu\"))\n",
        "        self.cnn.add(Conv2D(filters=512, kernel_size=(3,3), padding=\"same\", activation=\"relu\"))\n",
        "        self.cnn.add(MaxPool2D(pool_size=(2,2),strides=(2,2)))\n",
        "        self.cnn.add(Flatten())\n",
        "        self.cnn.add(Dense(units=4096,activation=\"relu\"))\n",
        "        self.cnn.add(Dense(units=4096,activation=\"relu\"))\n",
        "        self.cnn.add(Dense(num_classes, activation='softmax'))\n",
        "      \n",
        "        \n",
        "        self.cnn.compile(loss='categorical_crossentropy', optimizer='sgd', metrics=self.metrics)\n",
        "        return\n",
        "  \n",
        "    # información sobre la red neuronal\n",
        "    def getSummary(self):\n",
        "        return self.cnn.summary()\n",
        "       \n",
        "    # entrenar el modelo\n",
        "    def train(self):\n",
        "        # cuando iniciamos el entrenamiento\n",
        "        self.start = time.time()\n",
        "        self.history = self.cnn.fit(self.train_data, self.train_labels,\n",
        "                                    batch_size=self.batch_size,\n",
        "                                    epochs=self.epochs,\n",
        "                                    verbose=self.verbose,\n",
        "                                    validation_data=(self.val_data, self.val_labels),\n",
        "                                    shuffle=True)     \n",
        "  \n",
        "        # cuando terminamos el entrenamiento\n",
        "        self.end = time.time()\n",
        "        # tiempo que ha tardado en entrenar\n",
        "        self.time = self.end - self.start\n",
        "        \n",
        "    # recuperar el tiempo que se ha tardado en entrenar\n",
        "    def getTime(self):\n",
        "        return self.time\n",
        "    \n",
        "    # evaluar el modelo\n",
        "    def evaluate(self, test_data, test_label):\n",
        "        self.accuracy = self.cnn.evaluate(test_data, test_label, verbose=self.verbose)\n",
        "          \n",
        "    # loss (sobre el conjunto de test)\n",
        "    def getLoss(self):\n",
        "        return self.accuracy[0]\n",
        "    \n",
        "    # accuracy (sobre el conjunto de test)\n",
        "    def getAccuracy(self):\n",
        "        return self.accuracy[1]  \n",
        "   \n",
        "    # history\n",
        "    def getHistory(self):\n",
        "        return self.history"
      ],
      "execution_count": 0,
      "outputs": []
    },
    {
      "cell_type": "code",
      "metadata": {
        "id": "WQ44ihfERjWi",
        "colab_type": "code",
        "colab": {}
      },
      "source": [
        "from keras.applications import vgg16\n",
        "class cnnVGG:\n",
        "    def __init__(self, x_data, y_data, input_shape, epochs=12, batch_size=128, metrics=['accuracy'], \n",
        "                 val_percent=0.2, lr=0.0001, verbose=True):\n",
        "              \n",
        "        self.input_shape = input_shape\n",
        "        self.epochs = epochs\n",
        "        self.batch_size = batch_size\n",
        "        self.metrics = metrics\n",
        "        self.lr = lr\n",
        "        self.x_data = x_data\n",
        "        self.y_data = y_data\n",
        "        self.val_data_len = int(val_percent * len(self.x_data))\n",
        "        # conjunto de entrenamiento\n",
        "        self.train_data = x_data[-self.val_data_len:]\n",
        "        self.train_labels = y_data[-self.val_data_len:]\n",
        "        # conjunto de validación\n",
        "        self.val_data = x_data[:-self.val_data_len]\n",
        "        self.val_labels = y_data[:-self.val_data_len]\n",
        "        self.time = ''\n",
        "        self.history = ''\n",
        "        self.accuracy = ''\n",
        "        \n",
        "        self.verbose = verbose\n",
        "        \n",
        "    # definimos la red neuronal\n",
        "    def create(self):\n",
        "\n",
        "      self.cnn = vgg16.VGG16(include_top=True, weights=None, input_tensor=None, input_shape=input_shape_data, pooling=None, classes=num_classes)\n",
        "      \n",
        "      self.cnn.compile(loss='categorical_crossentropy', optimizer='sgd', metrics=self.metrics)\n",
        "      \n",
        "      return\n",
        "  \n",
        "    # información sobre la red neuronal\n",
        "    def getSummary(self):\n",
        "        return self.cnn.summary()\n",
        "       \n",
        "    # entrenar el modelo\n",
        "    def train(self):\n",
        "        # cuando iniciamos el entrenamiento\n",
        "        self.start = time.time()\n",
        "        self.history = self.cnn.fit(self.train_data, self.train_labels,\n",
        "                                    batch_size=self.batch_size,\n",
        "                                    epochs=self.epochs,\n",
        "                                    verbose=self.verbose,\n",
        "                                    validation_data=(self.val_data, self.val_labels),\n",
        "                                    shuffle=True)     \n",
        "        # cuando terminamos el entrenamiento\n",
        "        self.end = time.time()\n",
        "        # tiempo que ha tardado en entrenar\n",
        "        self.time = self.end - self.start\n",
        "        \n",
        "    # recuperar el tiempo que se ha tardado en entrenar\n",
        "    def getTime(self):\n",
        "        return self.time\n",
        "    \n",
        "    # evaluar el modelo\n",
        "    def evaluate(self, test_data, test_label):\n",
        "        self.accuracy = self.cnn.evaluate(test_data, test_label, verbose=self.verbose)\n",
        "          \n",
        "    # loss (sobre el conjunto de test)\n",
        "    def getLoss(self):\n",
        "        return self.accuracy[0]\n",
        "    \n",
        "    # accuracy (sobre el conjunto de test)\n",
        "    def getAccuracy(self):\n",
        "        return self.accuracy[1]  \n",
        "   \n",
        "    # history\n",
        "    def getHistory(self):\n",
        "        return self.history"
      ],
      "execution_count": 0,
      "outputs": []
    },
    {
      "cell_type": "markdown",
      "metadata": {
        "colab_type": "text",
        "id": "OjSlDkZWFEiz"
      },
      "source": [
        "Normalizamos las imagenes para ser usadas en la red neuronal:"
      ]
    },
    {
      "cell_type": "code",
      "metadata": {
        "colab_type": "code",
        "id": "ViDmBN1dFEi0",
        "outputId": "d058d425-efd1-49dd-ecaf-0481c9120488",
        "colab": {
          "base_uri": "https://localhost:8080/",
          "height": 87
        }
      },
      "source": [
        "print(\"X train\" + str(X.shape))\n",
        "print(\"Y train\" + str(y.shape))\n",
        "print(\"X test\" + str(X_t.shape))\n",
        "print(\"Y test\" + str(y_t.shape))\n",
        "#print(\"X val\" + str(X_val.shape))\n",
        "#print(\"Y val\" + str(y_val.shape))"
      ],
      "execution_count": 48,
      "outputs": [
        {
          "output_type": "stream",
          "text": [
            "X train(18992, 64, 64, 3)\n",
            "Y train(18992,)\n",
            "X test(890, 64, 64, 3)\n",
            "Y test(890,)\n"
          ],
          "name": "stdout"
        }
      ]
    },
    {
      "cell_type": "code",
      "metadata": {
        "colab_type": "code",
        "id": "Ha9Lv0TXFEi4",
        "colab": {}
      },
      "source": [
        "# Vamos a comprobar las dimensiones una vez reajustamos las matrices\n",
        "num_classes = 18\n",
        "y = keras.utils.to_categorical(y, num_classes)\n",
        "y_t = keras.utils.to_categorical(y_t, num_classes)\n",
        "#y_val = keras.utils.to_categorical(y_val, num_classes)"
      ],
      "execution_count": 0,
      "outputs": []
    },
    {
      "cell_type": "code",
      "metadata": {
        "colab_type": "code",
        "id": "i75ZMzkFFEi8",
        "outputId": "6ca25825-0edc-4ebe-a9c4-172dce6ba66c",
        "colab": {
          "base_uri": "https://localhost:8080/",
          "height": 87
        }
      },
      "source": [
        "print(\"X train\" + str(X.shape))\n",
        "print(\"Y train\" + str(y.shape))\n",
        "print(\"X test\" + str(X_t.shape))\n",
        "print(\"Y test\" + str(y_t.shape))\n",
        "#print(\"X val\" + str(X_val.shape))\n",
        "#print(\"Y val\" + str(y_val.shape))"
      ],
      "execution_count": 50,
      "outputs": [
        {
          "output_type": "stream",
          "text": [
            "X train(18992, 64, 64, 3)\n",
            "Y train(18992, 18)\n",
            "X test(890, 64, 64, 3)\n",
            "Y test(890, 18)\n"
          ],
          "name": "stdout"
        }
      ]
    },
    {
      "cell_type": "code",
      "metadata": {
        "colab_type": "code",
        "id": "8WUlaQ5aFEjA",
        "colab": {}
      },
      "source": [
        "from keras import backend as K\n",
        "\n",
        "# comprobamos como nos vienen los caanels RGB en la imagen y lo adaptamos.\n",
        "# tenemos que cambiar otra vez las imagenes para que coja los cnaales bien\n",
        "\n",
        "if K.image_data_format() == 'channels_first':\n",
        "  X = X.reshape(X.shape[0], 3, IMG_SIZE, IMG_SIZE)\n",
        "  X_t = X_t.reshape(X_t.shape[0], 3, IMG_SIZE, IMG_SIZE)\n",
        "#  X_val = X_val.reshape(X_val.shape[0], 3, IMG_SIZE, IMG_SIZE)\n",
        "  input_shape_data = (3, IMG_SIZE, IMG_SIZE)\n",
        "else:\n",
        "  X = X.reshape(X.shape[0], IMG_SIZE, IMG_SIZE, 3)\n",
        "  X_t = X_t.reshape(X_t.shape[0], IMG_SIZE, IMG_SIZE, 3)\n",
        "#  X_val = X_val.reshape(X_val.shape[0], IMG_SIZE, IMG_SIZE,3)\n",
        "  input_shape_data = (IMG_SIZE, IMG_SIZE,3)"
      ],
      "execution_count": 0,
      "outputs": []
    },
    {
      "cell_type": "code",
      "metadata": {
        "colab_type": "code",
        "id": "Xat3G6XRFEjJ",
        "outputId": "26989b23-e9b0-44c7-9ed3-b4442d17d95e",
        "colab": {
          "base_uri": "https://localhost:8080/",
          "height": 87
        }
      },
      "source": [
        "print(\"X train\" + str(X.shape))\n",
        "print(\"Y train\" + str(y.shape))\n",
        "print(\"X test\" + str(X_t.shape))\n",
        "print(\"Y test\" + str(y_t.shape))\n",
        "#print(\"X val\" + str(X_val.shape))\n",
        "#print(\"Y val\" + str(y_val.shape))"
      ],
      "execution_count": 52,
      "outputs": [
        {
          "output_type": "stream",
          "text": [
            "X train(18992, 64, 64, 3)\n",
            "Y train(18992, 18)\n",
            "X test(890, 64, 64, 3)\n",
            "Y test(890, 18)\n"
          ],
          "name": "stdout"
        }
      ]
    },
    {
      "cell_type": "markdown",
      "metadata": {
        "colab_type": "text",
        "id": "V42qzJvvKH-I"
      },
      "source": [
        "Creamos y entrenamos la red neuronal:"
      ]
    },
    {
      "cell_type": "code",
      "metadata": {
        "colab_type": "code",
        "id": "I608YaEMFEjS",
        "outputId": "d3e0ea0d-d416-48c4-9a65-1dbc24ca8ee1",
        "colab": {
          "base_uri": "https://localhost:8080/",
          "height": 1000
        }
      },
      "source": [
        "\n",
        "mycnn = cnn(X, y, input_shape_data, epochs=20, batch_size=32, metrics=['accuracy'], \n",
        "            val_percent=0.20, lr=0.0001, verbose=True)\n",
        "\n",
        "mycnn.create()\n",
        "mycnn.getSummary()\n",
        "mycnn.train()"
      ],
      "execution_count": 105,
      "outputs": [
        {
          "output_type": "stream",
          "text": [
            "Model: \"sequential_13\"\n",
            "_________________________________________________________________\n",
            "Layer (type)                 Output Shape              Param #   \n",
            "=================================================================\n",
            "conv2d_124 (Conv2D)          (None, 64, 64, 64)        1792      \n",
            "_________________________________________________________________\n",
            "conv2d_125 (Conv2D)          (None, 64, 64, 64)        36928     \n",
            "_________________________________________________________________\n",
            "max_pooling2d_46 (MaxPooling (None, 32, 32, 64)        0         \n",
            "_________________________________________________________________\n",
            "conv2d_126 (Conv2D)          (None, 32, 32, 128)       73856     \n",
            "_________________________________________________________________\n",
            "conv2d_127 (Conv2D)          (None, 32, 32, 128)       147584    \n",
            "_________________________________________________________________\n",
            "max_pooling2d_47 (MaxPooling (None, 16, 16, 128)       0         \n",
            "_________________________________________________________________\n",
            "conv2d_128 (Conv2D)          (None, 16, 16, 256)       295168    \n",
            "_________________________________________________________________\n",
            "conv2d_129 (Conv2D)          (None, 16, 16, 256)       590080    \n",
            "_________________________________________________________________\n",
            "conv2d_130 (Conv2D)          (None, 16, 16, 256)       590080    \n",
            "_________________________________________________________________\n",
            "max_pooling2d_48 (MaxPooling (None, 8, 8, 256)         0         \n",
            "_________________________________________________________________\n",
            "conv2d_131 (Conv2D)          (None, 8, 8, 512)         1180160   \n",
            "_________________________________________________________________\n",
            "conv2d_132 (Conv2D)          (None, 8, 8, 512)         2359808   \n",
            "_________________________________________________________________\n",
            "conv2d_133 (Conv2D)          (None, 8, 8, 512)         2359808   \n",
            "_________________________________________________________________\n",
            "max_pooling2d_49 (MaxPooling (None, 4, 4, 512)         0         \n",
            "_________________________________________________________________\n",
            "conv2d_134 (Conv2D)          (None, 4, 4, 512)         2359808   \n",
            "_________________________________________________________________\n",
            "conv2d_135 (Conv2D)          (None, 4, 4, 512)         2359808   \n",
            "_________________________________________________________________\n",
            "conv2d_136 (Conv2D)          (None, 4, 4, 512)         2359808   \n",
            "_________________________________________________________________\n",
            "max_pooling2d_50 (MaxPooling (None, 2, 2, 512)         0         \n",
            "_________________________________________________________________\n",
            "flatten_10 (Flatten)         (None, 2048)              0         \n",
            "_________________________________________________________________\n",
            "dense_28 (Dense)             (None, 4096)              8392704   \n",
            "_________________________________________________________________\n",
            "dense_29 (Dense)             (None, 4096)              16781312  \n",
            "_________________________________________________________________\n",
            "dense_30 (Dense)             (None, 18)                73746     \n",
            "=================================================================\n",
            "Total params: 39,962,450\n",
            "Trainable params: 39,962,450\n",
            "Non-trainable params: 0\n",
            "_________________________________________________________________\n",
            "Train on 3798 samples, validate on 15194 samples\n",
            "Epoch 1/20\n",
            "3798/3798 [==============================] - 16s 4ms/step - loss: 2.7921 - accuracy: 0.1195 - val_loss: 2.7168 - val_accuracy: 0.1535\n",
            "Epoch 2/20\n",
            "3798/3798 [==============================] - 16s 4ms/step - loss: 2.6514 - accuracy: 0.1614 - val_loss: 2.7290 - val_accuracy: 0.1588\n",
            "Epoch 3/20\n",
            "3798/3798 [==============================] - 15s 4ms/step - loss: 2.4951 - accuracy: 0.2204 - val_loss: 2.4035 - val_accuracy: 0.2668\n",
            "Epoch 4/20\n",
            "3798/3798 [==============================] - 15s 4ms/step - loss: 2.2909 - accuracy: 0.2883 - val_loss: 2.1633 - val_accuracy: 0.3366\n",
            "Epoch 5/20\n",
            "3798/3798 [==============================] - 15s 4ms/step - loss: 2.0777 - accuracy: 0.3502 - val_loss: 2.2861 - val_accuracy: 0.3095\n",
            "Epoch 6/20\n",
            "3798/3798 [==============================] - 15s 4ms/step - loss: 1.9627 - accuracy: 0.3939 - val_loss: 1.9789 - val_accuracy: 0.3747\n",
            "Epoch 7/20\n",
            "3798/3798 [==============================] - 15s 4ms/step - loss: 1.7506 - accuracy: 0.4645 - val_loss: 2.2589 - val_accuracy: 0.3633\n",
            "Epoch 8/20\n",
            "3798/3798 [==============================] - 15s 4ms/step - loss: 1.6655 - accuracy: 0.4984 - val_loss: 1.7020 - val_accuracy: 0.4890\n",
            "Epoch 9/20\n",
            "3798/3798 [==============================] - 16s 4ms/step - loss: 1.5135 - accuracy: 0.5411 - val_loss: 2.0780 - val_accuracy: 0.3812\n",
            "Epoch 10/20\n",
            "3798/3798 [==============================] - 15s 4ms/step - loss: 1.3781 - accuracy: 0.5700 - val_loss: 2.1389 - val_accuracy: 0.3994\n",
            "Epoch 11/20\n",
            "3798/3798 [==============================] - 15s 4ms/step - loss: 1.1857 - accuracy: 0.6369 - val_loss: 1.6139 - val_accuracy: 0.5454\n",
            "Epoch 12/20\n",
            "3798/3798 [==============================] - 15s 4ms/step - loss: 1.1204 - accuracy: 0.6530 - val_loss: 1.5530 - val_accuracy: 0.5535\n",
            "Epoch 13/20\n",
            "3798/3798 [==============================] - 15s 4ms/step - loss: 0.9891 - accuracy: 0.6948 - val_loss: 1.8279 - val_accuracy: 0.5111\n",
            "Epoch 14/20\n",
            "3798/3798 [==============================] - 15s 4ms/step - loss: 0.8101 - accuracy: 0.7407 - val_loss: 1.5187 - val_accuracy: 0.5738\n",
            "Epoch 15/20\n",
            "3798/3798 [==============================] - 15s 4ms/step - loss: 0.7161 - accuracy: 0.7773 - val_loss: 1.5647 - val_accuracy: 0.5948\n",
            "Epoch 16/20\n",
            "3798/3798 [==============================] - 15s 4ms/step - loss: 0.4650 - accuracy: 0.8557 - val_loss: 1.9781 - val_accuracy: 0.5663\n",
            "Epoch 17/20\n",
            "3798/3798 [==============================] - 16s 4ms/step - loss: 0.4710 - accuracy: 0.8599 - val_loss: 1.7020 - val_accuracy: 0.5778\n",
            "Epoch 18/20\n",
            "3798/3798 [==============================] - 15s 4ms/step - loss: 0.3395 - accuracy: 0.8976 - val_loss: 2.6023 - val_accuracy: 0.5164\n",
            "Epoch 19/20\n",
            "3798/3798 [==============================] - 16s 4ms/step - loss: 0.3064 - accuracy: 0.9047 - val_loss: 1.9523 - val_accuracy: 0.6010\n",
            "Epoch 20/20\n",
            "3798/3798 [==============================] - 15s 4ms/step - loss: 0.1768 - accuracy: 0.9518 - val_loss: 1.8974 - val_accuracy: 0.5840\n"
          ],
          "name": "stdout"
        }
      ]
    },
    {
      "cell_type": "markdown",
      "metadata": {
        "colab_type": "text",
        "id": "05xt97uAKSe0"
      },
      "source": [
        "Evaluamos la red neuronal y obtenemos accuracy:"
      ]
    },
    {
      "cell_type": "code",
      "metadata": {
        "colab_type": "code",
        "id": "w66TsBvaFEjX",
        "outputId": "17e8b50f-c67f-4535-bc1a-bbd0a8e022f0",
        "colab": {
          "base_uri": "https://localhost:8080/",
          "height": 52
        }
      },
      "source": [
        "mycnn.evaluate(X_t, y_t)\n",
        "mycnn.getAccuracy()"
      ],
      "execution_count": 106,
      "outputs": [
        {
          "output_type": "stream",
          "text": [
            "890/890 [==============================] - 1s 607us/step\n"
          ],
          "name": "stdout"
        },
        {
          "output_type": "execute_result",
          "data": {
            "text/plain": [
              "0.6415730118751526"
            ]
          },
          "metadata": {
            "tags": []
          },
          "execution_count": 106
        }
      ]
    },
    {
      "cell_type": "markdown",
      "metadata": {
        "colab_type": "text",
        "id": "UnpxjfeZLYQn"
      },
      "source": [
        "Perdida:"
      ]
    },
    {
      "cell_type": "code",
      "metadata": {
        "colab_type": "code",
        "id": "ROMBuj5UKacl",
        "outputId": "88b15eed-1f0c-4698-8727-1a2486f69d81",
        "colab": {
          "base_uri": "https://localhost:8080/",
          "height": 35
        }
      },
      "source": [
        "mycnn.getLoss()"
      ],
      "execution_count": 107,
      "outputs": [
        {
          "output_type": "execute_result",
          "data": {
            "text/plain": [
              "1.7280374358209332"
            ]
          },
          "metadata": {
            "tags": []
          },
          "execution_count": 107
        }
      ]
    },
    {
      "cell_type": "markdown",
      "metadata": {
        "colab_type": "text",
        "id": "_HpG60isLlFj"
      },
      "source": [
        "Tiempo en entrenamiento (segundos):"
      ]
    },
    {
      "cell_type": "code",
      "metadata": {
        "colab_type": "code",
        "id": "B047gPrWLfWU",
        "outputId": "0bd6861b-b55b-4588-89fb-91cf947fa5d7",
        "colab": {
          "base_uri": "https://localhost:8080/",
          "height": 35
        }
      },
      "source": [
        "mycnn.getTime()"
      ],
      "execution_count": 108,
      "outputs": [
        {
          "output_type": "execute_result",
          "data": {
            "text/plain": [
              "309.9571363925934"
            ]
          },
          "metadata": {
            "tags": []
          },
          "execution_count": 108
        }
      ]
    },
    {
      "cell_type": "markdown",
      "metadata": {
        "colab_type": "text",
        "id": "N_oCGvsmOOf0"
      },
      "source": [
        "Comparativa precision - perdida:"
      ]
    },
    {
      "cell_type": "code",
      "metadata": {
        "colab_type": "code",
        "id": "f3ZRET1RLtuo",
        "outputId": "60db5702-2951-463d-94e0-23604e4de5be",
        "colab": {
          "base_uri": "https://localhost:8080/",
          "height": 436
        }
      },
      "source": [
        "accurracyLossComparative(mycnn.getHistory(), 'Titulo molon VGG 1' )"
      ],
      "execution_count": 109,
      "outputs": [
        {
          "output_type": "display_data",
          "data": {
            "image/png": "[encoded data removed]",
            "text/plain": [
              "<Figure size 864x432 with 2 Axes>"
            ]
          },
          "metadata": {
            "tags": [],
            "needs_background": "light"
          }
        }
      ]
    },
    {
      "cell_type": "markdown",
      "metadata": {
        "id": "WzVK3SD1IYCg",
        "colab_type": "text"
      },
      "source": [
        "#USANDO VGG DE KERAS\n"
      ]
    },
    {
      "cell_type": "code",
      "metadata": {
        "id": "b96D1N77TUCg",
        "colab_type": "code",
        "colab": {
          "base_uri": "https://localhost:8080/",
          "height": 1000
        },
        "outputId": "b971f2e6-8b5e-4b7a-9ccb-328f1b32b926"
      },
      "source": [
        "\n",
        "mycnnVGG = cnnVGG(X, y, input_shape_data, epochs=20, batch_size=32, metrics=['accuracy'], \n",
        "            val_percent=0.20, lr=0.0001, verbose=True)\n",
        "\n",
        "mycnnVGG.create()\n",
        "mycnnVGG.getSummary()\n",
        "mycnnVGG.train()"
      ],
      "execution_count": 112,
      "outputs": [
        {
          "output_type": "stream",
          "text": [
            "Model: \"vgg16\"\n",
            "_________________________________________________________________\n",
            "Layer (type)                 Output Shape              Param #   \n",
            "=================================================================\n",
            "input_10 (InputLayer)        (None, 64, 64, 3)         0         \n",
            "_________________________________________________________________\n",
            "block1_conv1 (Conv2D)        (None, 64, 64, 64)        1792      \n",
            "_________________________________________________________________\n",
            "block1_conv2 (Conv2D)        (None, 64, 64, 64)        36928     \n",
            "_________________________________________________________________\n",
            "block1_pool (MaxPooling2D)   (None, 32, 32, 64)        0         \n",
            "_________________________________________________________________\n",
            "block2_conv1 (Conv2D)        (None, 32, 32, 128)       73856     \n",
            "_________________________________________________________________\n",
            "block2_conv2 (Conv2D)        (None, 32, 32, 128)       147584    \n",
            "_________________________________________________________________\n",
            "block2_pool (MaxPooling2D)   (None, 16, 16, 128)       0         \n",
            "_________________________________________________________________\n",
            "block3_conv1 (Conv2D)        (None, 16, 16, 256)       295168    \n",
            "_________________________________________________________________\n",
            "block3_conv2 (Conv2D)        (None, 16, 16, 256)       590080    \n",
            "_________________________________________________________________\n",
            "block3_conv3 (Conv2D)        (None, 16, 16, 256)       590080    \n",
            "_________________________________________________________________\n",
            "block3_pool (MaxPooling2D)   (None, 8, 8, 256)         0         \n",
            "_________________________________________________________________\n",
            "block4_conv1 (Conv2D)        (None, 8, 8, 512)         1180160   \n",
            "_________________________________________________________________\n",
            "block4_conv2 (Conv2D)        (None, 8, 8, 512)         2359808   \n",
            "_________________________________________________________________\n",
            "block4_conv3 (Conv2D)        (None, 8, 8, 512)         2359808   \n",
            "_________________________________________________________________\n",
            "block4_pool (MaxPooling2D)   (None, 4, 4, 512)         0         \n",
            "_________________________________________________________________\n",
            "block5_conv1 (Conv2D)        (None, 4, 4, 512)         2359808   \n",
            "_________________________________________________________________\n",
            "block5_conv2 (Conv2D)        (None, 4, 4, 512)         2359808   \n",
            "_________________________________________________________________\n",
            "block5_conv3 (Conv2D)        (None, 4, 4, 512)         2359808   \n",
            "_________________________________________________________________\n",
            "block5_pool (MaxPooling2D)   (None, 2, 2, 512)         0         \n",
            "_________________________________________________________________\n",
            "flatten (Flatten)            (None, 2048)              0         \n",
            "_________________________________________________________________\n",
            "fc1 (Dense)                  (None, 4096)              8392704   \n",
            "_________________________________________________________________\n",
            "fc2 (Dense)                  (None, 4096)              16781312  \n",
            "_________________________________________________________________\n",
            "predictions (Dense)          (None, 18)                73746     \n",
            "=================================================================\n",
            "Total params: 39,962,450\n",
            "Trainable params: 39,962,450\n",
            "Non-trainable params: 0\n",
            "_________________________________________________________________\n",
            "Train on 3798 samples, validate on 15194 samples\n",
            "Epoch 1/20\n",
            "3798/3798 [==============================] - 15s 4ms/step - loss: 2.8072 - accuracy: 0.1164 - val_loss: 2.7678 - val_accuracy: 0.1208\n",
            "Epoch 2/20\n",
            "3798/3798 [==============================] - 15s 4ms/step - loss: 2.7138 - accuracy: 0.1461 - val_loss: 2.6324 - val_accuracy: 0.1699\n",
            "Epoch 3/20\n",
            "3798/3798 [==============================] - 15s 4ms/step - loss: 2.5668 - accuracy: 0.1975 - val_loss: 2.5867 - val_accuracy: 0.1765\n",
            "Epoch 4/20\n",
            "3798/3798 [==============================] - 15s 4ms/step - loss: 2.3386 - accuracy: 0.2728 - val_loss: 2.6366 - val_accuracy: 0.1751\n",
            "Epoch 5/20\n",
            "3798/3798 [==============================] - 15s 4ms/step - loss: 2.1123 - accuracy: 0.3433 - val_loss: 2.1707 - val_accuracy: 0.3309\n",
            "Epoch 6/20\n",
            "3798/3798 [==============================] - 15s 4ms/step - loss: 1.9696 - accuracy: 0.3855 - val_loss: 2.5158 - val_accuracy: 0.2322\n",
            "Epoch 7/20\n",
            "3798/3798 [==============================] - 15s 4ms/step - loss: 1.8391 - accuracy: 0.4431 - val_loss: 1.9872 - val_accuracy: 0.3830\n",
            "Epoch 8/20\n",
            "3798/3798 [==============================] - 16s 4ms/step - loss: 1.6405 - accuracy: 0.4895 - val_loss: 2.1752 - val_accuracy: 0.3674\n",
            "Epoch 9/20\n",
            "3798/3798 [==============================] - 15s 4ms/step - loss: 1.5443 - accuracy: 0.5240 - val_loss: 1.7346 - val_accuracy: 0.4677\n",
            "Epoch 10/20\n",
            "3798/3798 [==============================] - 16s 4ms/step - loss: 1.3734 - accuracy: 0.5850 - val_loss: 1.5211 - val_accuracy: 0.5494\n",
            "Epoch 11/20\n",
            "3798/3798 [==============================] - 16s 4ms/step - loss: 1.2902 - accuracy: 0.6074 - val_loss: 2.5117 - val_accuracy: 0.2993\n",
            "Epoch 12/20\n",
            "3798/3798 [==============================] - 16s 4ms/step - loss: 1.1211 - accuracy: 0.6569 - val_loss: 1.4004 - val_accuracy: 0.5937\n",
            "Epoch 13/20\n",
            "3798/3798 [==============================] - 16s 4ms/step - loss: 0.9424 - accuracy: 0.7077 - val_loss: 1.3560 - val_accuracy: 0.6002\n",
            "Epoch 14/20\n",
            "3798/3798 [==============================] - 16s 4ms/step - loss: 0.8469 - accuracy: 0.7351 - val_loss: 1.8604 - val_accuracy: 0.5029\n",
            "Epoch 15/20\n",
            "3798/3798 [==============================] - 16s 4ms/step - loss: 0.7086 - accuracy: 0.7778 - val_loss: 1.8104 - val_accuracy: 0.5461\n",
            "Epoch 16/20\n",
            "3798/3798 [==============================] - 15s 4ms/step - loss: 0.6719 - accuracy: 0.8078 - val_loss: 1.6033 - val_accuracy: 0.5742\n",
            "Epoch 17/20\n",
            "3798/3798 [==============================] - 16s 4ms/step - loss: 0.4725 - accuracy: 0.8578 - val_loss: 1.5306 - val_accuracy: 0.5527\n",
            "Epoch 18/20\n",
            "3798/3798 [==============================] - 16s 4ms/step - loss: 0.3641 - accuracy: 0.8942 - val_loss: 1.6813 - val_accuracy: 0.6121\n",
            "Epoch 19/20\n",
            "3798/3798 [==============================] - 16s 4ms/step - loss: 0.2605 - accuracy: 0.9308 - val_loss: 2.0437 - val_accuracy: 0.5232\n",
            "Epoch 20/20\n",
            "3798/3798 [==============================] - 15s 4ms/step - loss: 0.2848 - accuracy: 0.9207 - val_loss: 1.7439 - val_accuracy: 0.6217\n"
          ],
          "name": "stdout"
        }
      ]
    },
    {
      "cell_type": "code",
      "metadata": {
        "id": "LvVqVB1SZN8Q",
        "colab_type": "code",
        "colab": {
          "base_uri": "https://localhost:8080/",
          "height": 52
        },
        "outputId": "e46731f6-260a-4332-bb61-bc5423cf6b99"
      },
      "source": [
        "mycnnVGG.evaluate(X_t, y_t)\n",
        "mycnnVGG.getAccuracy()"
      ],
      "execution_count": 113,
      "outputs": [
        {
          "output_type": "stream",
          "text": [
            "890/890 [==============================] - 1s 653us/step\n"
          ],
          "name": "stdout"
        },
        {
          "output_type": "execute_result",
          "data": {
            "text/plain": [
              "0.6786516904830933"
            ]
          },
          "metadata": {
            "tags": []
          },
          "execution_count": 113
        }
      ]
    },
    {
      "cell_type": "code",
      "metadata": {
        "id": "NqeUGhNoZPE0",
        "colab_type": "code",
        "colab": {
          "base_uri": "https://localhost:8080/",
          "height": 35
        },
        "outputId": "305898fb-98aa-4f8d-9d8f-560458ff1392"
      },
      "source": [
        "mycnnVGG.getLoss()"
      ],
      "execution_count": 114,
      "outputs": [
        {
          "output_type": "execute_result",
          "data": {
            "text/plain": [
              "1.4880549170997706"
            ]
          },
          "metadata": {
            "tags": []
          },
          "execution_count": 114
        }
      ]
    },
    {
      "cell_type": "code",
      "metadata": {
        "id": "RV8WsKcQZaBY",
        "colab_type": "code",
        "colab": {
          "base_uri": "https://localhost:8080/",
          "height": 35
        },
        "outputId": "a573683c-0139-4054-813a-d1f9dc8823f0"
      },
      "source": [
        "mycnnVGG.getTime()"
      ],
      "execution_count": 116,
      "outputs": [
        {
          "output_type": "execute_result",
          "data": {
            "text/plain": [
              "309.95390796661377"
            ]
          },
          "metadata": {
            "tags": []
          },
          "execution_count": 116
        }
      ]
    },
    {
      "cell_type": "code",
      "metadata": {
        "id": "7xiPQM8zZfA4",
        "colab_type": "code",
        "colab": {
          "base_uri": "https://localhost:8080/",
          "height": 436
        },
        "outputId": "d0e16359-824b-4232-a5e6-7e65f6867a96"
      },
      "source": [
        "accurracyLossComparative(mycnnVGG.getHistory(), 'Titulo molon VGG' )"
      ],
      "execution_count": 118,
      "outputs": [
        {
          "output_type": "display_data",
          "data": {
            "image/png": "[encoded data removed]",
            "text/plain": [
              "<Figure size 864x432 with 2 Axes>"
            ]
          },
          "metadata": {
            "tags": [],
            "needs_background": "light"
          }
        }
      ]
    }
  ]
}